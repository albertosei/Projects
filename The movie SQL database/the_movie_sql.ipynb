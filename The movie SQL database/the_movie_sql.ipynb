{
 "cells": [
  {
   "cell_type": "markdown",
   "id": "cddc5e99-1881-4d73-9d2a-b7a5e06fe48f",
   "metadata": {},
   "source": [
    "## The TMDb database\n",
    "\n",
    "I will be exploring [The Movie Database](https://www.themoviedb.org/) – an online movie and TV show database that houses some of the most popular movies and TV shows at your fingertips. The TMDb database supports 39 official languages used in over 180 countries daily and dates back all the way to 2008. \n",
    "\n",
    "\n",
    "<img src=\"https://github.com/Explore-AI/Pictures/blob/master/sql_tmdb.jpg?raw=true\" width=80%/>\n",
    "\n",
    "\n",
    "Below is an Entity Relationship Diagram (ERD) of the TMDb database:\n",
    "\n",
    "<img src=\"https://github.com/Explore-AI/Pictures/blob/master/TMDB_ER_diagram.png?raw=true\" width=70%/>\n",
    "\n",
    "As can be seen from the ERD, the TMDb database consists of `12 tables` containing information about movies, cast, genre, and so much more.  \n",
    "\n",
    "Let's get started!"
   ]
  },
  {
   "cell_type": "code",
   "execution_count": 1,
   "id": "482792b0-cb47-4a19-812b-596e2c727254",
   "metadata": {},
   "outputs": [],
   "source": [
    "# Load and activate the SQL extension to allow us to execute SQL in a Jupyter notebook. \n",
    "# If you get an error here, make sure that mysql and pymysql are installed correctly. \n",
    "\n",
    "%load_ext sql"
   ]
  },
  {
   "cell_type": "code",
   "execution_count": 2,
   "id": "f0e4d71f-1b03-4dcd-839c-ea64cea3b6b1",
   "metadata": {},
   "outputs": [
    {
     "data": {
      "text/plain": [
       "'Connected: @TMDB.db'"
      ]
     },
     "execution_count": 2,
     "metadata": {},
     "output_type": "execute_result"
    }
   ],
   "source": [
    "# Establish a connection to the local database using the '%sql' magic command.\n",
    "\n",
    "%sql sqlite:///TMDB.db"
   ]
  },
  {
   "cell_type": "markdown",
   "id": "a6df9873-7d7a-4331-9e74-06d03eeb7956",
   "metadata": {},
   "source": [
    "### Question 1\n",
    "\n",
    "Who won the Oscar for “Actor in a Leading Role” in  2015?\n",
    "\n",
    "(Hint: The winner is indicated as '1.0'.)"
   ]
  },
  {
   "cell_type": "code",
   "execution_count": 3,
   "id": "05a8c7e5-102f-481f-aa69-0b72ce0c2907",
   "metadata": {},
   "outputs": [
    {
     "name": "stdout",
     "output_type": "stream",
     "text": [
      " * sqlite:///TMDB.db\n",
      "Done.\n"
     ]
    },
    {
     "data": {
      "text/html": [
       "<table>\n",
       "    <thead>\n",
       "        <tr>\n",
       "            <th>year</th>\n",
       "            <th>award</th>\n",
       "            <th>winner</th>\n",
       "            <th>name</th>\n",
       "            <th>film</th>\n",
       "        </tr>\n",
       "    </thead>\n",
       "    <tbody>\n",
       "        <tr>\n",
       "            <td>2015</td>\n",
       "            <td>Actor in a Leading Role</td>\n",
       "            <td>1.0</td>\n",
       "            <td>Leonardo DiCaprio</td>\n",
       "            <td>The Revenant</td>\n",
       "        </tr>\n",
       "    </tbody>\n",
       "</table>"
      ],
      "text/plain": [
       "[('2015', 'Actor in a Leading Role', '1.0', 'Leonardo DiCaprio', 'The Revenant')]"
      ]
     },
     "execution_count": 3,
     "metadata": {},
     "output_type": "execute_result"
    }
   ],
   "source": [
    "%%sql\n",
    "\n",
    "SELECT\n",
    "    *\n",
    "FROM\n",
    "    OSCARS\n",
    "WHERE\n",
    "    year = 2015 AND\n",
    "    award = 'Actor in a Leading Role' AND\n",
    "    winner = '1.0'; "
   ]
  },
  {
   "cell_type": "markdown",
   "id": "bb9140c7-2050-41cc-9f15-888b14b5ab57",
   "metadata": {},
   "source": [
    "### Question 2\n",
    "\n",
    "What are the ten oldest movies in the database?"
   ]
  },
  {
   "cell_type": "code",
   "execution_count": 4,
   "id": "f77f9103-6498-42ce-9440-77a6d8c78b61",
   "metadata": {},
   "outputs": [
    {
     "name": "stdout",
     "output_type": "stream",
     "text": [
      " * sqlite:///TMDB.db\n",
      "Done.\n"
     ]
    },
    {
     "data": {
      "text/html": [
       "<table>\n",
       "    <thead>\n",
       "        <tr>\n",
       "            <th>movie_id</th>\n",
       "            <th>title</th>\n",
       "            <th>release_date</th>\n",
       "        </tr>\n",
       "    </thead>\n",
       "    <tbody>\n",
       "        <tr>\n",
       "            <td>3059</td>\n",
       "            <td>Intolerance</td>\n",
       "            <td>1916-09-04 00:00:00.000000</td>\n",
       "        </tr>\n",
       "        <tr>\n",
       "            <td>3060</td>\n",
       "            <td>The Big Parade</td>\n",
       "            <td>1925-11-05 00:00:00.000000</td>\n",
       "        </tr>\n",
       "        <tr>\n",
       "            <td>19</td>\n",
       "            <td>Metropolis</td>\n",
       "            <td>1927-01-10 00:00:00.000000</td>\n",
       "        </tr>\n",
       "        <tr>\n",
       "            <td>905</td>\n",
       "            <td>Pandora&#x27;s Box</td>\n",
       "            <td>1929-01-30 00:00:00.000000</td>\n",
       "        </tr>\n",
       "        <tr>\n",
       "            <td>65203</td>\n",
       "            <td>The Broadway Melody</td>\n",
       "            <td>1929-02-08 00:00:00.000000</td>\n",
       "        </tr>\n",
       "        <tr>\n",
       "            <td>22301</td>\n",
       "            <td>Hell&#x27;s Angels</td>\n",
       "            <td>1930-11-15 00:00:00.000000</td>\n",
       "        </tr>\n",
       "        <tr>\n",
       "            <td>22649</td>\n",
       "            <td>A Farewell to Arms</td>\n",
       "            <td>1932-12-08 00:00:00.000000</td>\n",
       "        </tr>\n",
       "        <tr>\n",
       "            <td>3062</td>\n",
       "            <td>42nd Street</td>\n",
       "            <td>1933-02-02 00:00:00.000000</td>\n",
       "        </tr>\n",
       "        <tr>\n",
       "            <td>43595</td>\n",
       "            <td>She Done Him Wrong</td>\n",
       "            <td>1933-02-09 00:00:00.000000</td>\n",
       "        </tr>\n",
       "        <tr>\n",
       "            <td>3078</td>\n",
       "            <td>It Happened One Night</td>\n",
       "            <td>1934-02-22 00:00:00.000000</td>\n",
       "        </tr>\n",
       "    </tbody>\n",
       "</table>"
      ],
      "text/plain": [
       "[(3059, 'Intolerance', '1916-09-04 00:00:00.000000'),\n",
       " (3060, 'The Big Parade', '1925-11-05 00:00:00.000000'),\n",
       " (19, 'Metropolis', '1927-01-10 00:00:00.000000'),\n",
       " (905, \"Pandora's Box\", '1929-01-30 00:00:00.000000'),\n",
       " (65203, 'The Broadway Melody', '1929-02-08 00:00:00.000000'),\n",
       " (22301, \"Hell's Angels\", '1930-11-15 00:00:00.000000'),\n",
       " (22649, 'A Farewell to Arms', '1932-12-08 00:00:00.000000'),\n",
       " (3062, '42nd Street', '1933-02-02 00:00:00.000000'),\n",
       " (43595, 'She Done Him Wrong', '1933-02-09 00:00:00.000000'),\n",
       " (3078, 'It Happened One Night', '1934-02-22 00:00:00.000000')]"
      ]
     },
     "execution_count": 4,
     "metadata": {},
     "output_type": "execute_result"
    }
   ],
   "source": [
    "%%sql\n",
    "\n",
    "SELECT\n",
    "    movie_id,\n",
    "    title,\n",
    "    release_date\n",
    "FROM\n",
    "    movies\n",
    "WHERE \n",
    "    release_date IS NOT NULL\n",
    "ORDER BY\n",
    "    release_date asc\n",
    "limit 10;"
   ]
  },
  {
   "cell_type": "markdown",
   "id": "bbf8612b-7b78-4180-8297-18b13519a3cf",
   "metadata": {},
   "source": [
    "### Question 3\n",
    "\n",
    "How many unique awards are there in the Oscars table?"
   ]
  },
  {
   "cell_type": "code",
   "execution_count": 5,
   "id": "44d05cf9-7de1-4dc6-9c16-67f952a0eb3f",
   "metadata": {},
   "outputs": [
    {
     "name": "stdout",
     "output_type": "stream",
     "text": [
      " * sqlite:///TMDB.db\n",
      "Done.\n"
     ]
    },
    {
     "data": {
      "text/html": [
       "<table>\n",
       "    <thead>\n",
       "        <tr>\n",
       "            <th>unique_awards</th>\n",
       "        </tr>\n",
       "    </thead>\n",
       "    <tbody>\n",
       "        <tr>\n",
       "            <td>114</td>\n",
       "        </tr>\n",
       "    </tbody>\n",
       "</table>"
      ],
      "text/plain": [
       "[(114,)]"
      ]
     },
     "execution_count": 5,
     "metadata": {},
     "output_type": "execute_result"
    }
   ],
   "source": [
    "%%sql\n",
    "\n",
    "SELECT \n",
    "    count(distinct award) as unique_awards\n",
    "FROM\n",
    "    oscars;"
   ]
  },
  {
   "cell_type": "markdown",
   "id": "fd20819e-33f5-4d57-8a24-151f01fdbeda",
   "metadata": {},
   "source": [
    "### Question 4\n",
    "\n",
    "How many movies are there that contain the word “Spider” within their title?\n"
   ]
  },
  {
   "cell_type": "code",
   "execution_count": 6,
   "id": "7fc8df0c-4669-43ce-a13c-6b1fd26d01d8",
   "metadata": {},
   "outputs": [
    {
     "name": "stdout",
     "output_type": "stream",
     "text": [
      " * sqlite:///TMDB.db\n",
      "Done.\n"
     ]
    },
    {
     "data": {
      "text/html": [
       "<table>\n",
       "    <thead>\n",
       "        <tr>\n",
       "            <th>movies_with_spider</th>\n",
       "        </tr>\n",
       "    </thead>\n",
       "    <tbody>\n",
       "        <tr>\n",
       "            <td>9</td>\n",
       "        </tr>\n",
       "    </tbody>\n",
       "</table>"
      ],
      "text/plain": [
       "[(9,)]"
      ]
     },
     "execution_count": 6,
     "metadata": {},
     "output_type": "execute_result"
    }
   ],
   "source": [
    "%%sql\n",
    "\n",
    "SELECT\n",
    "    count(title) as movies_with_spider\n",
    "FROM\n",
    "    movies\n",
    "WHERE\n",
    "    title like '%Spider%';"
   ]
  },
  {
   "cell_type": "markdown",
   "id": "2e5af92b-6cfc-4128-b2f4-7e85c585a02f",
   "metadata": {},
   "source": [
    "### Question 5\n",
    "\n",
    "How many movies are there that are both in the \"Thriller\" genre and contain the word “love” anywhere in the keywords?\n"
   ]
  },
  {
   "cell_type": "code",
   "execution_count": 7,
   "id": "6a8bdbbd-dc8c-4cde-94e1-e3a5d80af3bc",
   "metadata": {},
   "outputs": [
    {
     "name": "stdout",
     "output_type": "stream",
     "text": [
      " * sqlite:///TMDB.db\n",
      "Done.\n"
     ]
    },
    {
     "data": {
      "text/html": [
       "<table>\n",
       "    <thead>\n",
       "        <tr>\n",
       "            <th>thriller_love</th>\n",
       "        </tr>\n",
       "    </thead>\n",
       "    <tbody>\n",
       "        <tr>\n",
       "            <td>48</td>\n",
       "        </tr>\n",
       "    </tbody>\n",
       "</table>"
      ],
      "text/plain": [
       "[(48,)]"
      ]
     },
     "execution_count": 7,
     "metadata": {},
     "output_type": "execute_result"
    }
   ],
   "source": [
    "%%sql\n",
    "\n",
    "SELECT\n",
    "    COUNT(DISTINCT gm.movie_id) AS thriller_love\n",
    "FROM\n",
    "    genremap as gm\n",
    "JOIN\n",
    "    genres as g on g.genre_id = gm.genre_id\n",
    "JOIN\n",
    "    keywordmap as km on km.movie_id = gm.movie_id\n",
    "JOIN\n",
    "    keywords as key on key.keyword_id = km.keyword_id\n",
    "WHERE\n",
    "    g.genre_name like 'thriller' AND\n",
    "    key.keyword_name like '%love%';"
   ]
  },
  {
   "cell_type": "markdown",
   "id": "a759e67f-af56-4d86-bc4c-3f34523514a4",
   "metadata": {},
   "source": [
    "### Question 6\n",
    "\n",
    "How many movies are there that were released between 1 August 2006 ('2006-08-01') and 1 October 2009 ('2009-10-01') that have a popularity score of more than 40 and a budget of less than 50 000 000?\n",
    "\n",
    " \n",
    "**Options:**\n",
    "\n",
    " - 29\n",
    " - 23\n",
    " - 28\n",
    " - 35"
   ]
  },
  {
   "cell_type": "code",
   "execution_count": 8,
   "id": "1ce671f9-c6cc-436c-84ca-716feb3e6ba3",
   "metadata": {},
   "outputs": [
    {
     "name": "stdout",
     "output_type": "stream",
     "text": [
      " * sqlite:///TMDB.db\n",
      "Done.\n"
     ]
    },
    {
     "data": {
      "text/html": [
       "<table>\n",
       "    <thead>\n",
       "        <tr>\n",
       "            <th>old_low_budget_movies</th>\n",
       "        </tr>\n",
       "    </thead>\n",
       "    <tbody>\n",
       "        <tr>\n",
       "            <td>29</td>\n",
       "        </tr>\n",
       "    </tbody>\n",
       "</table>"
      ],
      "text/plain": [
       "[(29,)]"
      ]
     },
     "execution_count": 8,
     "metadata": {},
     "output_type": "execute_result"
    }
   ],
   "source": [
    "%%sql\n",
    "\n",
    "SELECT\n",
    "    count(*) as old_low_budget_movies\n",
    "FROM\n",
    "    movies\n",
    "WHERE\n",
    "    release_date BETWEEN '2006-08-01' AND '2009-10-01'\n",
    "    and popularity > 40\n",
    "    and budget < 50000000\n",
    "limit 5;"
   ]
  },
  {
   "cell_type": "markdown",
   "id": "7793bf0b-f2c4-4311-b2ec-3042d048e36e",
   "metadata": {},
   "source": [
    "### Question 7\n",
    "\n",
    "How many unique characters has \"Vin Diesel\" played so far in the database?\n",
    "\n",
    "**Options:**\n",
    " - 24\n",
    " - 19\n",
    " - 18\n",
    " - 16"
   ]
  },
  {
   "cell_type": "code",
   "execution_count": 9,
   "id": "c0ecec74-b14f-4a11-9877-e1ac6b7ff20d",
   "metadata": {},
   "outputs": [
    {
     "name": "stdout",
     "output_type": "stream",
     "text": [
      " * sqlite:///TMDB.db\n",
      "Done.\n"
     ]
    },
    {
     "data": {
      "text/html": [
       "<table>\n",
       "    <thead>\n",
       "        <tr>\n",
       "            <th>unique_vindiesel</th>\n",
       "        </tr>\n",
       "    </thead>\n",
       "    <tbody>\n",
       "        <tr>\n",
       "            <td>16</td>\n",
       "        </tr>\n",
       "    </tbody>\n",
       "</table>"
      ],
      "text/plain": [
       "[(16,)]"
      ]
     },
     "execution_count": 9,
     "metadata": {},
     "output_type": "execute_result"
    }
   ],
   "source": [
    "%%sql\n",
    "\n",
    "SELECT\n",
    "    count(distinct characters) as unique_vindiesel\n",
    "FROM\n",
    "    casts as c\n",
    "JOIN\n",
    "    actors as a on c.actor_id = a.actor_id\n",
    "JOIN\n",
    "    movies as m on m.movie_id = c.movie_id\n",
    "WHERE\n",
    "    actor_name = 'Vin Diesel';"
   ]
  },
  {
   "cell_type": "markdown",
   "id": "a19d66d2-65b7-4186-aa75-c8b256d327d7",
   "metadata": {},
   "source": [
    "### Question 8\n",
    "\n",
    "What are the genres of the movie “The Royal Tenenbaums”?\n",
    "\n",
    "\n",
    "**Options:**\n",
    " - Action, Romance\n",
    " - Drama, Comedy\n",
    " - Crime, Thriller\n",
    " - Drama, Romance"
   ]
  },
  {
   "cell_type": "code",
   "execution_count": 10,
   "id": "53cc3b8a-ea7e-46f8-a8f8-43aab86ffa4e",
   "metadata": {},
   "outputs": [
    {
     "name": "stdout",
     "output_type": "stream",
     "text": [
      " * sqlite:///TMDB.db\n",
      "Done.\n"
     ]
    },
    {
     "data": {
      "text/html": [
       "<table>\n",
       "    <thead>\n",
       "        <tr>\n",
       "            <th>title</th>\n",
       "            <th>genre_name</th>\n",
       "        </tr>\n",
       "    </thead>\n",
       "    <tbody>\n",
       "        <tr>\n",
       "            <td>The Royal Tenenbaums</td>\n",
       "            <td>Drama</td>\n",
       "        </tr>\n",
       "        <tr>\n",
       "            <td>The Royal Tenenbaums</td>\n",
       "            <td>Comedy</td>\n",
       "        </tr>\n",
       "    </tbody>\n",
       "</table>"
      ],
      "text/plain": [
       "[('The Royal Tenenbaums', 'Drama'), ('The Royal Tenenbaums', 'Comedy')]"
      ]
     },
     "execution_count": 10,
     "metadata": {},
     "output_type": "execute_result"
    }
   ],
   "source": [
    "%%sql\n",
    "\n",
    "SELECT\n",
    "    m.title,\n",
    "    g.genre_name\n",
    "FROM\n",
    "    movies as m \n",
    "JOIN\n",
    "    genremap as gm on gm.movie_id = m.movie_id\n",
    "JOIN\n",
    "    genres as g on g.genre_id = gm.genre_id\n",
    "WHERE\n",
    "    m.title = 'The Royal Tenenbaums'\n",
    "limit 5;"
   ]
  },
  {
   "cell_type": "markdown",
   "id": "9fbf852c-6c92-42ca-8616-5769a833645d",
   "metadata": {},
   "source": [
    "### Question 9\n",
    "\n",
    "What are the three production companies that have the highest movie popularity score on average, as recorded within the database?\n",
    "\n",
    "\n",
    "**Options:**\n",
    "\n",
    " - MCL Films S.A., Turner Pictures, and George Stevens Productions\n",
    " - The Donners' Company, Bulletproof Cupid, and Kinberg Genre\n",
    " - Bulletproof Cupid, The Donners' Company, and MCL Films S.A\n",
    " - B.Sting Entertainment, Illumination Pictures, and Aztec Musique"
   ]
  },
  {
   "cell_type": "code",
   "execution_count": 11,
   "id": "3c36df99-b227-4a7b-b922-73023d2a5a60",
   "metadata": {},
   "outputs": [
    {
     "name": "stdout",
     "output_type": "stream",
     "text": [
      " * sqlite:///TMDB.db\n",
      "Done.\n"
     ]
    },
    {
     "data": {
      "text/html": [
       "<table>\n",
       "    <thead>\n",
       "        <tr>\n",
       "            <th>cmpy_name</th>\n",
       "            <th>avg_popularity</th>\n",
       "        </tr>\n",
       "    </thead>\n",
       "    <tbody>\n",
       "        <tr>\n",
       "            <td>The Donners&#x27; Company</td>\n",
       "            <td>515.0</td>\n",
       "        </tr>\n",
       "        <tr>\n",
       "            <td>Bulletproof Cupid</td>\n",
       "            <td>481.0</td>\n",
       "        </tr>\n",
       "        <tr>\n",
       "            <td>Kinberg Genre</td>\n",
       "            <td>327.0</td>\n",
       "        </tr>\n",
       "    </tbody>\n",
       "</table>"
      ],
      "text/plain": [
       "[(\"The Donners' Company\", 515.0),\n",
       " ('Bulletproof Cupid', 481.0),\n",
       " ('Kinberg Genre', 327.0)]"
      ]
     },
     "execution_count": 11,
     "metadata": {},
     "output_type": "execute_result"
    }
   ],
   "source": [
    "%%sql\n",
    "\n",
    "SELECT\n",
    "    p.production_company_name as cmpy_name, \n",
    "    round(AVG(m.popularity)) as avg_popularity\n",
    "FROM\n",
    "    movies as m \n",
    "JOIN\n",
    "    productioncompanymap as pcm on m.movie_id = pcm.movie_id\n",
    "JOIN\n",
    "    productioncompanies as p on p.production_company_id = pcm.production_company_id\n",
    "GROUP BY\n",
    "    p.production_company_name \n",
    "ORDER BY\n",
    "    avg_popularity DESC\n",
    "limit 3;"
   ]
  },
  {
   "cell_type": "markdown",
   "id": "39591507-1aa1-4ab8-8049-b3545bc1b54b",
   "metadata": {},
   "source": [
    "### Question 10\n",
    "\n",
    "How many female actors (i.e. gender = 1) have a name that starts with the letter \"N\"?\n",
    "\n",
    "\n",
    "**Options:**\n",
    "\n",
    " - 0\n",
    " - 355\n",
    " - 7335\n",
    " - 1949"
   ]
  },
  {
   "cell_type": "code",
   "execution_count": 12,
   "id": "9a6870b0-6463-4638-8e97-edd3fce7ca58",
   "metadata": {},
   "outputs": [
    {
     "name": "stdout",
     "output_type": "stream",
     "text": [
      " * sqlite:///TMDB.db\n",
      "Done.\n"
     ]
    },
    {
     "data": {
      "text/html": [
       "<table>\n",
       "    <thead>\n",
       "        <tr>\n",
       "            <th>female_N</th>\n",
       "        </tr>\n",
       "    </thead>\n",
       "    <tbody>\n",
       "        <tr>\n",
       "            <td>355</td>\n",
       "        </tr>\n",
       "    </tbody>\n",
       "</table>"
      ],
      "text/plain": [
       "[(355,)]"
      ]
     },
     "execution_count": 12,
     "metadata": {},
     "output_type": "execute_result"
    }
   ],
   "source": [
    "%%sql\n",
    "\n",
    "SELECT\n",
    "    count(*) as female_N\n",
    "FROM\n",
    "    actors\n",
    "WHERE\n",
    "    gender = 1\n",
    "    AND actor_name like 'N%'\n",
    ";"
   ]
  },
  {
   "cell_type": "markdown",
   "id": "4df9ba55-ee14-4b25-b64c-333a33c49886",
   "metadata": {},
   "source": [
    "### Question 11\n",
    "\n",
    "Which genre has, on average, the lowest movie popularity score? \n",
    "\n",
    "\n",
    "**Options:**\n",
    "\n",
    " - Science Fiction\n",
    " - Animation\n",
    " - Documentary\n",
    " - Foreign"
   ]
  },
  {
   "cell_type": "code",
   "execution_count": 13,
   "id": "f184d1ac-3acb-4042-a1a7-838c9ea8a194",
   "metadata": {},
   "outputs": [
    {
     "name": "stdout",
     "output_type": "stream",
     "text": [
      " * sqlite:///TMDB.db\n",
      "Done.\n"
     ]
    },
    {
     "data": {
      "text/html": [
       "<table>\n",
       "    <thead>\n",
       "        <tr>\n",
       "            <th>genre_name</th>\n",
       "            <th>avg_pop</th>\n",
       "        </tr>\n",
       "    </thead>\n",
       "    <tbody>\n",
       "        <tr>\n",
       "            <td>Foreign</td>\n",
       "            <td>0.686786794117647</td>\n",
       "        </tr>\n",
       "    </tbody>\n",
       "</table>"
      ],
      "text/plain": [
       "[('Foreign', 0.686786794117647)]"
      ]
     },
     "execution_count": 13,
     "metadata": {},
     "output_type": "execute_result"
    }
   ],
   "source": [
    "%%sql\n",
    "\n",
    "SELECT\n",
    "    g.genre_name,\n",
    "    AVG(m.popularity) as avg_pop\n",
    "FROM\n",
    "    genres as g\n",
    "JOIN\n",
    "    genremap as gm on g.genre_id = gm.genre_id\n",
    "JOIN\n",
    "    movies as m on m.movie_id = gm.movie_id\n",
    "GROUP BY\n",
    "    g.genre_name\n",
    "ORDER BY \n",
    "    avg_pop asc\n",
    "limit 1;"
   ]
  },
  {
   "cell_type": "markdown",
   "id": "89957970-1205-4a8d-86d1-1844d37f9ea4",
   "metadata": {},
   "source": [
    "### Question 12\n",
    "\n",
    "Which award category has the highest number of actor nominations (actors can be male or female)? (Hint: `Oscars.name` contains both actors' names and film names.)\n",
    "\n",
    "**Options:**\n",
    "\n",
    "- Special Achievement Award\n",
    "- Actor in a Supporting Role\n",
    "- Actress in a Supporting Role\n",
    "- Best Picture\n",
    "\n"
   ]
  },
  {
   "cell_type": "code",
   "execution_count": 14,
   "id": "e0076463-86eb-4162-a534-9a1763708639",
   "metadata": {},
   "outputs": [
    {
     "name": "stdout",
     "output_type": "stream",
     "text": [
      " * sqlite:///TMDB.db\n",
      "Done.\n"
     ]
    },
    {
     "data": {
      "text/html": [
       "<table>\n",
       "    <thead>\n",
       "        <tr>\n",
       "            <th>award</th>\n",
       "            <th>highest_actor_nom</th>\n",
       "        </tr>\n",
       "    </thead>\n",
       "    <tbody>\n",
       "        <tr>\n",
       "            <td>Actor in a Supporting Role</td>\n",
       "            <td>356</td>\n",
       "        </tr>\n",
       "    </tbody>\n",
       "</table>"
      ],
      "text/plain": [
       "[('Actor in a Supporting Role', 356)]"
      ]
     },
     "execution_count": 14,
     "metadata": {},
     "output_type": "execute_result"
    }
   ],
   "source": [
    "%%sql\n",
    "\n",
    "SELECT\n",
    "    o.award,\n",
    "    count(o.award) as highest_actor_nom\n",
    "FROM\n",
    "    oscars as o\n",
    "JOIN\n",
    "    actors as a on a.actor_name = o.name\n",
    "GROUP BY\n",
    "    o.award\n",
    "ORDER BY\n",
    "    highest_actor_nom desc\n",
    "LIMIT 1;"
   ]
  },
  {
   "cell_type": "markdown",
   "id": "3792ee60-424b-4a08-a8f3-c6c384656749",
   "metadata": {},
   "source": [
    "### Question 13\n",
    "\n",
    "For all of the entries in the Oscars table before 1934, the year is stored differently than in all the subsequent years. For example, the year would be saved as “1932/1933” instead of just “1933” (the second indicated year).  Which of the following options would be the appropriate code to update this column to have the format of the year be consistent throughout the entire table (second indicated year only shown)?\n",
    "\n",
    "\n",
    "**Options:**\n",
    "\n",
    "- `UPDATE Oscars SET year = RIGHT(year, -4)`\n",
    "- `UPDATE Oscars SET year = SELECT substr(year, -4)`\n",
    "- `UPDATE Oscars SET year = substr(year, -4)`\n",
    "- `UPDATE Oscars year =  substr(year, 4)`"
   ]
  },
  {
   "cell_type": "code",
   "execution_count": 16,
   "id": "6a606299-16ae-4983-b1d1-239a2adc5265",
   "metadata": {},
   "outputs": [
    {
     "name": "stdout",
     "output_type": "stream",
     "text": [
      " * sqlite:///TMDB.db\n",
      "Done.\n",
      "9964 rows affected.\n",
      "Done.\n"
     ]
    },
    {
     "data": {
      "text/html": [
       "<table>\n",
       "    <thead>\n",
       "        <tr>\n",
       "            <th>year</th>\n",
       "            <th>award</th>\n",
       "            <th>winner</th>\n",
       "            <th>name</th>\n",
       "            <th>film</th>\n",
       "        </tr>\n",
       "    </thead>\n",
       "    <tbody>\n",
       "        <tr>\n",
       "            <td>1933</td>\n",
       "            <td>Actor</td>\n",
       "            <td>None</td>\n",
       "            <td>Leslie Howard</td>\n",
       "            <td>Berkeley Square</td>\n",
       "        </tr>\n",
       "        <tr>\n",
       "            <td>1933</td>\n",
       "            <td>Actor</td>\n",
       "            <td>1.0</td>\n",
       "            <td>Charles Laughton</td>\n",
       "            <td>The Private Life of Henry VIII</td>\n",
       "        </tr>\n",
       "        <tr>\n",
       "            <td>1933</td>\n",
       "            <td>Actor</td>\n",
       "            <td>None</td>\n",
       "            <td>Paul Muni</td>\n",
       "            <td>I Am a Fugitive from a Chain Gang</td>\n",
       "        </tr>\n",
       "        <tr>\n",
       "            <td>1933</td>\n",
       "            <td>Actress</td>\n",
       "            <td>1.0</td>\n",
       "            <td>Katharine Hepburn</td>\n",
       "            <td>Morning Glory</td>\n",
       "        </tr>\n",
       "        <tr>\n",
       "            <td>1933</td>\n",
       "            <td>Actress</td>\n",
       "            <td>None</td>\n",
       "            <td>May Robson</td>\n",
       "            <td>Lady for a Day</td>\n",
       "        </tr>\n",
       "    </tbody>\n",
       "</table>"
      ],
      "text/plain": [
       "[('1933', 'Actor', None, 'Leslie Howard', 'Berkeley Square'),\n",
       " ('1933', 'Actor', '1.0', 'Charles Laughton', 'The Private Life of Henry VIII'),\n",
       " ('1933', 'Actor', None, 'Paul Muni', 'I Am a Fugitive from a Chain Gang'),\n",
       " ('1933', 'Actress', '1.0', 'Katharine Hepburn', 'Morning Glory'),\n",
       " ('1933', 'Actress', None, 'May Robson', 'Lady for a Day')]"
      ]
     },
     "execution_count": 16,
     "metadata": {},
     "output_type": "execute_result"
    }
   ],
   "source": [
    "%%sql\n",
    "\n",
    "CREATE TEMPORARY TABLE IF NOT EXISTS temp_oscars as\n",
    "SELECT \n",
    "    * \n",
    "FROM \n",
    "    oscars;\n",
    "\n",
    "\n",
    "UPDATE temp_oscars SET year = substr(year, -4);\n",
    "\n",
    "SELECT \n",
    "    * \n",
    "FROM \n",
    "    temp_oscars \n",
    "WHERE year < '1934'\n",
    "ORDER BY year DESC\n",
    "LIMIT 5;"
   ]
  },
  {
   "cell_type": "markdown",
   "id": "cf7b3b53-d515-40fb-9d50-b1dc5c8304a2",
   "metadata": {},
   "source": [
    "### Question 14\n",
    "\n",
    "DStv will be having a special week dedicated to the actor Alan Rickman. create a new _view_ that shows the titles, release dates, taglines, and overviews of all movies that Alan Rickman has played in?\n"
   ]
  },
  {
   "cell_type": "code",
   "execution_count": 17,
   "id": "ca5f932f-6aff-4ba0-8132-bb6b1b295570",
   "metadata": {},
   "outputs": [
    {
     "name": "stdout",
     "output_type": "stream",
     "text": [
      " * sqlite:///TMDB.db\n",
      "Done.\n",
      "Done.\n",
      "Done.\n"
     ]
    },
    {
     "data": {
      "text/html": [
       "<table>\n",
       "    <thead>\n",
       "        <tr>\n",
       "            <th>title</th>\n",
       "            <th>release_date</th>\n",
       "            <th>tagline</th>\n",
       "            <th>overview</th>\n",
       "        </tr>\n",
       "    </thead>\n",
       "    <tbody>\n",
       "        <tr>\n",
       "            <td>Love Actually</td>\n",
       "            <td>2003-09-07 00:00:00.000000</td>\n",
       "            <td>The ultimate romantic comedy.</td>\n",
       "            <td>Follows seemingly unrelated people as their lives begin to intertwine while they fall in û and out û of love. Affections languish and develop as Christmas draws near.</td>\n",
       "        </tr>\n",
       "        <tr>\n",
       "            <td>Die Hard</td>\n",
       "            <td>1988-07-15 00:00:00.000000</td>\n",
       "            <td>40 Stories. Twelve Terrorists. One Cop.</td>\n",
       "            <td>NYPD cop, John McClane&#x27;s plan to reconcile with his estranged wife is thrown for a serious loop when minutes after he arrives at her office, the entire building is overtaken by a group of terrorists. With little help from the LAPD, wisecracking McClane sets out to single-handedly rescue the hostages and bring the bad guys down.</td>\n",
       "        </tr>\n",
       "        <tr>\n",
       "            <td>Harry Potter and the Philosopher&#x27;s Stone</td>\n",
       "            <td>2001-11-16 00:00:00.000000</td>\n",
       "            <td>Let the Magic Begin.</td>\n",
       "            <td>Harry Potter has lived under the stairs at his aunt and uncle&#x27;s house his whole life. But on his 11th birthday, he learns he&#x27;s a powerful wizard -- with a place waiting for him at the Hogwarts School of Witchcraft and Wizardry. As he learns to harness his newfound powers with the help of the school&#x27;s kindly headmaster, Harry uncovers the truth about his parents&#x27; deaths -- and about the villain who&#x27;s to blame.</td>\n",
       "        </tr>\n",
       "        <tr>\n",
       "            <td>Harry Potter and the Chamber of Secrets</td>\n",
       "            <td>2002-11-13 00:00:00.000000</td>\n",
       "            <td>Hogwarts is back in session.</td>\n",
       "            <td>Ignoring threats to his life, Harry returns to Hogwarts to investigate û aided by Ron and Hermione û a mysterious series of attacks.</td>\n",
       "        </tr>\n",
       "        <tr>\n",
       "            <td>Harry Potter and the Prisoner of Azkaban</td>\n",
       "            <td>2004-05-31 00:00:00.000000</td>\n",
       "            <td>Something wicked this way comes.</td>\n",
       "            <td>Harry, Ron and Hermione return to Hogwarts for another magic-filled year. Harry comes face to face with danger yet again, this time in the form of escaped convict, Sirius Black û and turns to sympathetic Professor Lupin for help.</td>\n",
       "        </tr>\n",
       "        <tr>\n",
       "            <td>Harry Potter and the Goblet of Fire</td>\n",
       "            <td>2005-11-05 00:00:00.000000</td>\n",
       "            <td>Dark And Difficult Times Lie Ahead.</td>\n",
       "            <td>Harry starts his fourth year at Hogwarts, competes in the treacherous Triwizard Tournament and faces the evil Lord Voldemort. Ron and Hermione help Harry manage the pressure û but Voldemort lurks, awaiting his chance to destroy Harry and all that he stands for.</td>\n",
       "        </tr>\n",
       "        <tr>\n",
       "            <td>Harry Potter and the Order of the Phoenix</td>\n",
       "            <td>2007-06-28 00:00:00.000000</td>\n",
       "            <td>Evil Must Be Confronted.</td>\n",
       "            <td>Returning for his fifth year of study at Hogwarts, Harry is stunned to find that his warnings about the return of Lord Voldemort have been ignored. Left with no choice, Harry takes matters into his own hands, training a small group of students û dubbed &#x27;Dumbledore&#x27;s Army&#x27; û to defend themselves against the dark arts.</td>\n",
       "        </tr>\n",
       "        <tr>\n",
       "            <td>Harry Potter and the Half-Blood Prince</td>\n",
       "            <td>2009-07-07 00:00:00.000000</td>\n",
       "            <td>Dark Secrets Revealed</td>\n",
       "            <td>As Harry begins his sixth year at Hogwarts, he discovers an old book marked as &#x27;Property of the Half-Blood Prince&#x27;, and begins to learn more about Lord Voldemort&#x27;s dark past.</td>\n",
       "        </tr>\n",
       "        <tr>\n",
       "            <td>Galaxy Quest</td>\n",
       "            <td>1999-12-23 00:00:00.000000</td>\n",
       "            <td>A comedy of Galactic Proportions.</td>\n",
       "            <td>The stars of a 1970s sci-fi show - now scraping a living through re-runs and sci-fi conventions - are beamed aboard an alien spacecraft. Believing the cast&#x27;s heroic on-screen dramas are historical documents of real-life adventures, the band of aliens turn to the ailing celebrities for help in their quest to overcome the oppressive regime in their solar system.</td>\n",
       "        </tr>\n",
       "        <tr>\n",
       "            <td>Perfume: The Story of a Murderer</td>\n",
       "            <td>2006-09-13 00:00:00.000000</td>\n",
       "            <td>Based on the best-selling novel</td>\n",
       "            <td>Jean-Baptiste Grenouille, born in the stench of 18th century Paris, develops a superior olfactory sense, which he uses to create the world&#x27;s finest perfumes. However, his work takes a dark turn as he tries to preserve scents in the search for the ultimate perfume.</td>\n",
       "        </tr>\n",
       "        <tr>\n",
       "            <td>Michael Collins</td>\n",
       "            <td>1996-10-25 00:00:00.000000</td>\n",
       "            <td>Ireland, 1916. His Dreams Inspired Hope. His Words Ignited Passion. His Courage Forged A Nation&#x27;s Destiny.</td>\n",
       "            <td>Michael Collins plays a crucial role in the establishment of the Irish Free State in the 1920s, but becomes vilified by those hoping to create a completely independent Irish republic.</td>\n",
       "        </tr>\n",
       "        <tr>\n",
       "            <td>Dogma</td>\n",
       "            <td>1999-11-12 00:00:00.000000</td>\n",
       "            <td>It can be Hell getting into Heaven</td>\n",
       "            <td>The latest battle in the eternal war between Good and Evil has come to New Jersey in the late, late 20th Century. Angels, demons, apostles and prophets (of a sort) walk among the cynics and innocents of America and duke it out for the fate of humankind.</td>\n",
       "        </tr>\n",
       "        <tr>\n",
       "            <td>Sense and Sensibility</td>\n",
       "            <td>1995-12-13 00:00:00.000000</td>\n",
       "            <td>Lose your heart and come to your senses.</td>\n",
       "            <td>Rich Mr. Dashwood dies, leaving his second wife and her daughters poor by the rules of inheritance. Two daughters are the titular opposites.</td>\n",
       "        </tr>\n",
       "        <tr>\n",
       "            <td>The Hitchhiker&#x27;s Guide to the Galaxy</td>\n",
       "            <td>2005-01-15 00:00:00.000000</td>\n",
       "            <td>Don&#x27;t leave Earth without it.</td>\n",
       "            <td>&quot;Mere seconds before the Earth is to be demolished by an alien construction crew, Arthur Dent is swept off the planet by his friend Ford Prefect, a researcher penning a new edition of &quot;&quot;The Hitchhiker&#x27;s Guide to the Galaxy.&quot;&quot;&quot;</td>\n",
       "        </tr>\n",
       "        <tr>\n",
       "            <td>Robin Hood: Prince of Thieves</td>\n",
       "            <td>1991-06-14 00:00:00.000000</td>\n",
       "            <td>For the good of all men, and the love of one woman, he fought to uphold justice by breaking the law.</td>\n",
       "            <td>When the dastardly Sheriff of Nottingham murders Robin&#x27;s father, the legendary archer vows vengeance. To accomplish his mission, Robin joins forces with a band of exiled villagers (and comely Maid Marian), and together they battle to end the evil sheriff&#x27;s reign of terror.</td>\n",
       "        </tr>\n",
       "        <tr>\n",
       "            <td>Quigley Down Under</td>\n",
       "            <td>1990-10-17 00:00:00.000000</td>\n",
       "            <td>There&#x27;s a price on his head. A girl on his mind. And a twinkle in his eye.</td>\n",
       "            <td>American Matt Quigley answers Australian land baron Elliott Marston&#x27;s ad for a sharpshooter to kill the dingoes on his property. But when Quigley finds out that Marston&#x27;s real target is the aborigines, Quigley hits the road. Now, even American expatriate Crazy Cora can&#x27;t keep Quigley safe in his cat-and-mouse game with the homicidal Marston.</td>\n",
       "        </tr>\n",
       "        <tr>\n",
       "            <td>Alice in Wonderland</td>\n",
       "            <td>2010-03-03 00:00:00.000000</td>\n",
       "            <td>You&#x27;re invited to a very important date.</td>\n",
       "            <td>Alice, an unpretentious and individual 19-year-old, is betrothed to a dunce of an English nobleman. At her engagement party, she escapes the crowd to consider whether to go through with the marriage and falls down a hole in the garden after spotting an unusual rabbit. Arriving in a strange and surreal place called &#x27;Underland,&#x27; she finds herself in a world that resembles the nightmares she had as a child, filled with talking animals, villainous queens and knights, and frumious bandersnatches. Alice realizes that she is there for a reason û to conquer the horrific Jabberwocky and restore the rightful queen to her throne.</td>\n",
       "        </tr>\n",
       "        <tr>\n",
       "            <td>Bottle Shock</td>\n",
       "            <td>2008-08-06 00:00:00.000000</td>\n",
       "            <td>Based on a true story of love, victory, and fermentation</td>\n",
       "            <td>Paris-based wine expert Steven Spurrier heads to California in search of cheap wine that he can use for a blind taste test in the French capital. Stumbling upon the Napa Valley, the stuck-up Englishman is shocked to discover a winery turning out top-notch chardonnay. Determined to make a name for himself, he sets about getting the booze back to Paris.</td>\n",
       "        </tr>\n",
       "        <tr>\n",
       "            <td>The Butler</td>\n",
       "            <td>2013-08-16 00:00:00.000000</td>\n",
       "            <td>One quiet voice can ignite a revolution.</td>\n",
       "            <td>A look at the life of Cecil Gaines who served eight presidents as the White House&#x27;s head butler from 1952 to 1986, and had a unique front-row seat as political and racial history was made.</td>\n",
       "        </tr>\n",
       "        <tr>\n",
       "            <td>Alice Through the Looking Glass</td>\n",
       "            <td>2016-05-25 00:00:00.000000</td>\n",
       "            <td>It&#x27;s time for a little madness.</td>\n",
       "            <td>&quot;In the sequel to Tim Burton&#x27;s &quot;&quot;Alice in Wonderland&quot;&quot;, Alice Kingsleigh returns to Underland and faces a new adventure in saving the Mad Hatter.&quot;</td>\n",
       "        </tr>\n",
       "    </tbody>\n",
       "</table>"
      ],
      "text/plain": [
       "[('Love Actually', '2003-09-07 00:00:00.000000', 'The ultimate romantic comedy.', 'Follows seemingly unrelated people as their lives begin to intertwine while they fall in û and out û of love. Affections languish and develop as Christmas draws near.'),\n",
       " ('Die Hard', '1988-07-15 00:00:00.000000', '40 Stories. Twelve Terrorists. One Cop.', \"NYPD cop, John McClane's plan to reconcile with his estranged wife is thrown for a serious loop when minutes after he arrives at her office, the enti ... (31 characters truncated) ... roup of terrorists. With little help from the LAPD, wisecracking McClane sets out to single-handedly rescue the hostages and bring the bad guys down.\"),\n",
       " (\"Harry Potter and the Philosopher's Stone\", '2001-11-16 00:00:00.000000', 'Let the Magic Begin.', \"Harry Potter has lived under the stairs at his aunt and uncle's house his whole life. But on his 11th birthday, he learns he's a powerful wizard -- w ... (114 characters truncated) ... d powers with the help of the school's kindly headmaster, Harry uncovers the truth about his parents' deaths -- and about the villain who's to blame.\"),\n",
       " ('Harry Potter and the Chamber of Secrets', '2002-11-13 00:00:00.000000', 'Hogwarts is back in session.', 'Ignoring threats to his life, Harry returns to Hogwarts to investigate û aided by Ron and Hermione û a mysterious series of attacks.'),\n",
       " ('Harry Potter and the Prisoner of Azkaban', '2004-05-31 00:00:00.000000', 'Something wicked this way comes.', 'Harry, Ron and Hermione return to Hogwarts for another magic-filled year. Harry comes face to face with danger yet again, this time in the form of escaped convict, Sirius Black û and turns to sympathetic Professor Lupin for help.'),\n",
       " ('Harry Potter and the Goblet of Fire', '2005-11-05 00:00:00.000000', 'Dark And Difficult Times Lie Ahead.', 'Harry starts his fourth year at Hogwarts, competes in the treacherous Triwizard Tournament and faces the evil Lord Voldemort. Ron and Hermione help Harry manage the pressure û but Voldemort lurks, awaiting his chance to destroy Harry and all that he stands for.'),\n",
       " ('Harry Potter and the Order of the Phoenix', '2007-06-28 00:00:00.000000', 'Evil Must Be Confronted.', \"Returning for his fifth year of study at Hogwarts, Harry is stunned to find that his warnings about the return of Lord Voldemort have been ignored. L ... (20 characters truncated) ... Harry takes matters into his own hands, training a small group of students û dubbed 'Dumbledore's Army' û to defend themselves against the dark arts.\"),\n",
       " ('Harry Potter and the Half-Blood Prince', '2009-07-07 00:00:00.000000', 'Dark Secrets Revealed', \"As Harry begins his sixth year at Hogwarts, he discovers an old book marked as 'Property of the Half-Blood Prince', and begins to learn more about Lord Voldemort's dark past.\"),\n",
       " ('Galaxy Quest', '1999-12-23 00:00:00.000000', 'A comedy of Galactic Proportions.', \"The stars of a 1970s sci-fi show - now scraping a living through re-runs and sci-fi conventions - are beamed aboard an alien spacecraft. Believing th ... (64 characters truncated) ... l-life adventures, the band of aliens turn to the ailing celebrities for help in their quest to overcome the oppressive regime in their solar system.\"),\n",
       " ('Perfume: The Story of a Murderer', '2006-09-13 00:00:00.000000', 'Based on the best-selling novel', \"Jean-Baptiste Grenouille, born in the stench of 18th century Paris, develops a superior olfactory sense, which he uses to create the world's finest perfumes. However, his work takes a dark turn as he tries to preserve scents in the search for the ultimate perfume.\"),\n",
       " ('Michael Collins', '1996-10-25 00:00:00.000000', \"Ireland, 1916. His Dreams Inspired Hope. His Words Ignited Passion. His Courage Forged A Nation's Destiny.\", 'Michael Collins plays a crucial role in the establishment of the Irish Free State in the 1920s, but becomes vilified by those hoping to create a completely independent Irish republic.'),\n",
       " ('Dogma', '1999-11-12 00:00:00.000000', 'It can be Hell getting into Heaven', 'The latest battle in the eternal war between Good and Evil has come to New Jersey in the late, late 20th Century. Angels, demons, apostles and prophets (of a sort) walk among the cynics and innocents of America and duke it out for the fate of humankind.'),\n",
       " ('Sense and Sensibility', '1995-12-13 00:00:00.000000', 'Lose your heart and come to your senses.', 'Rich Mr. Dashwood dies, leaving his second wife and her daughters poor by the rules of inheritance. Two daughters are the titular opposites.'),\n",
       " (\"The Hitchhiker's Guide to the Galaxy\", '2005-01-15 00:00:00.000000', \"Don't leave Earth without it.\", '\"Mere seconds before the Earth is to be demolished by an alien construction crew, Arthur Dent is swept off the planet by his friend Ford Prefect, a researcher penning a new edition of \"\"The Hitchhiker\\'s Guide to the Galaxy.\"\"\"'),\n",
       " ('Robin Hood: Prince of Thieves', '1991-06-14 00:00:00.000000', 'For the good of all men, and the love of one woman, he fought to uphold justice by breaking the law.', \"When the dastardly Sheriff of Nottingham murders Robin's father, the legendary archer vows vengeance. To accomplish his mission, Robin joins forces with a band of exiled villagers (and comely Maid Marian), and together they battle to end the evil sheriff's reign of terror.\"),\n",
       " ('Quigley Down Under', '1990-10-17 00:00:00.000000', \"There's a price on his head. A girl on his mind. And a twinkle in his eye.\", \"American Matt Quigley answers Australian land baron Elliott Marston's ad for a sharpshooter to kill the dingoes on his property. But when Quigley fin ... (45 characters truncated) ... igines, Quigley hits the road. Now, even American expatriate Crazy Cora can't keep Quigley safe in his cat-and-mouse game with the homicidal Marston.\"),\n",
       " ('Alice in Wonderland', '2010-03-03 00:00:00.000000', \"You're invited to a very important date.\", \"Alice, an unpretentious and individual 19-year-old, is betrothed to a dunce of an English nobleman. At her engagement party, she escapes the crowd to ... (328 characters truncated) ... ous bandersnatches. Alice realizes that she is there for a reason û to conquer the horrific Jabberwocky and restore the rightful queen to her throne.\"),\n",
       " ('Bottle Shock', '2008-08-06 00:00:00.000000', 'Based on a true story of love, victory, and fermentation', 'Paris-based wine expert Steven Spurrier heads to California in search of cheap wine that he can use for a blind taste test in the French capital. Stu ... (55 characters truncated) ...  shocked to discover a winery turning out top-notch chardonnay. Determined to make a name for himself, he sets about getting the booze back to Paris.'),\n",
       " ('The Butler', '2013-08-16 00:00:00.000000', 'One quiet voice can ignite a revolution.', \"A look at the life of Cecil Gaines who served eight presidents as the White House's head butler from 1952 to 1986, and had a unique front-row seat as political and racial history was made.\"),\n",
       " ('Alice Through the Looking Glass', '2016-05-25 00:00:00.000000', \"It's time for a little madness.\", '\"In the sequel to Tim Burton\\'s \"\"Alice in Wonderland\"\", Alice Kingsleigh returns to Underland and faces a new adventure in saving the Mad Hatter.\"')]"
      ]
     },
     "execution_count": 17,
     "metadata": {},
     "output_type": "execute_result"
    }
   ],
   "source": [
    "%%sql\n",
    "\n",
    "DROP VIEW Alan_Rickman_Movies;\n",
    "CREATE VIEW Alan_Rickman_Movies AS  \n",
    "SELECT \n",
    "    m.title, \n",
    "    m.release_date, \n",
    "    m.tagline, \n",
    "    m.overview \n",
    "FROM \n",
    "    movies as m \n",
    "LEFT JOIN \n",
    "    casts as c ON c.movie_id = m.movie_id \n",
    "Left JOIN \n",
    "    actors as a ON c.actor_id = a.actor_id\n",
    "WHERE a.actor_name = 'Alan Rickman';\n",
    "\n",
    "SELECT\n",
    "    *\n",
    "FROM\n",
    "    Alan_Rickman_Movies;"
   ]
  },
  {
   "cell_type": "code",
   "execution_count": null,
   "id": "aaa87a2a-511e-4069-b6e8-21110771b1d3",
   "metadata": {},
   "outputs": [],
   "source": []
  }
 ],
 "metadata": {
  "kernelspec": {
   "display_name": "Python 3 (ipykernel)",
   "language": "python",
   "name": "python3"
  },
  "language_info": {
   "codemirror_mode": {
    "name": "ipython",
    "version": 3
   },
   "file_extension": ".py",
   "mimetype": "text/x-python",
   "name": "python",
   "nbconvert_exporter": "python",
   "pygments_lexer": "ipython3",
   "version": "3.12.4"
  }
 },
 "nbformat": 4,
 "nbformat_minor": 5
}
