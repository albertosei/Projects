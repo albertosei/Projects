{
 "cells": [
  {
   "cell_type": "code",
   "execution_count": 1,
   "id": "7b038b79-e6ef-4c58-a369-b6525e55a27d",
   "metadata": {},
   "outputs": [],
   "source": [
    "from IPython.display import Markdown, display, HTML\n",
    "import csv\n",
    "import numpy as np\n",
    "import pandas as pd\n",
    "import seaborn as sns\n",
    "import matplotlib.pyplot as plt\n",
    "from sklearn.model_selection import train_test_split\n",
    "from sklearn.linear_model import LinearRegression, LogisticRegression\n",
    "from sklearn.preprocessing import MinMaxScaler, LabelEncoder, StandardScaler, OrdinalEncoder\n",
    "from sklearn.impute import SimpleImputer\n",
    "from sklearn.ensemble import RandomForestRegressor\n",
    "from xgboost import XGBRegressor\n",
    "from sklearn.metrics import mean_squared_error, r2_score\n",
    "from sklearn.ensemble import GradientBoostingRegressor\n",
    "import joblib\n",
    "import gc\n",
    "import warnings\n",
    "from pathlib import Path\n",
    "from sklearn.metrics import roc_auc_score\n",
    "from xgboost import XGBClassifier\n",
    "from sklearn.ensemble import RandomForestClassifier\n",
    "from sklearn.metrics import accuracy_score, confusion_matrix, classification_report"
   ]
  },
  {
   "cell_type": "markdown",
   "id": "42303b17-082d-47ca-920b-a1bbd0bf7006",
   "metadata": {},
   "source": [
    "# Dictionary for the dataset\n",
    "1. symbol = stock symbol\n",
    "2. date = date of stock\n",
    "3. open = opening price for the date\n",
    "4. high = the highest price for the stock for that date\n",
    "5. low = the lowest price for the stock for that date\n",
    "6. close = the closing price for the stock for the date\n",
    "7. volume = the volume of the particular stock bought for the day"
   ]
  },
  {
   "cell_type": "code",
   "execution_count": 2,
   "id": "e0de576d-22e4-46b3-9fb2-52ee26d52217",
   "metadata": {},
   "outputs": [
    {
     "data": {
      "text/html": [
       "<div>\n",
       "<style scoped>\n",
       "    .dataframe tbody tr th:only-of-type {\n",
       "        vertical-align: middle;\n",
       "    }\n",
       "\n",
       "    .dataframe tbody tr th {\n",
       "        vertical-align: top;\n",
       "    }\n",
       "\n",
       "    .dataframe thead th {\n",
       "        text-align: right;\n",
       "    }\n",
       "</style>\n",
       "<table border=\"1\" class=\"dataframe\">\n",
       "  <thead>\n",
       "    <tr style=\"text-align: right;\">\n",
       "      <th></th>\n",
       "      <th>symbol</th>\n",
       "      <th>date</th>\n",
       "      <th>open</th>\n",
       "      <th>high</th>\n",
       "      <th>low</th>\n",
       "      <th>close</th>\n",
       "      <th>volume</th>\n",
       "    </tr>\n",
       "  </thead>\n",
       "  <tbody>\n",
       "    <tr>\n",
       "      <th>0</th>\n",
       "      <td>AAL</td>\n",
       "      <td>2014-01-02</td>\n",
       "      <td>25.0700</td>\n",
       "      <td>25.8200</td>\n",
       "      <td>25.0600</td>\n",
       "      <td>25.3600</td>\n",
       "      <td>8998943</td>\n",
       "    </tr>\n",
       "    <tr>\n",
       "      <th>1</th>\n",
       "      <td>AAPL</td>\n",
       "      <td>2014-01-02</td>\n",
       "      <td>79.3828</td>\n",
       "      <td>79.5756</td>\n",
       "      <td>78.8601</td>\n",
       "      <td>79.0185</td>\n",
       "      <td>58791957</td>\n",
       "    </tr>\n",
       "    <tr>\n",
       "      <th>2</th>\n",
       "      <td>AAP</td>\n",
       "      <td>2014-01-02</td>\n",
       "      <td>110.3600</td>\n",
       "      <td>111.8800</td>\n",
       "      <td>109.2900</td>\n",
       "      <td>109.7400</td>\n",
       "      <td>542711</td>\n",
       "    </tr>\n",
       "    <tr>\n",
       "      <th>3</th>\n",
       "      <td>ABBV</td>\n",
       "      <td>2014-01-02</td>\n",
       "      <td>52.1200</td>\n",
       "      <td>52.3300</td>\n",
       "      <td>51.5200</td>\n",
       "      <td>51.9800</td>\n",
       "      <td>4569061</td>\n",
       "    </tr>\n",
       "    <tr>\n",
       "      <th>4</th>\n",
       "      <td>ABC</td>\n",
       "      <td>2014-01-02</td>\n",
       "      <td>70.1100</td>\n",
       "      <td>70.2300</td>\n",
       "      <td>69.4800</td>\n",
       "      <td>69.8900</td>\n",
       "      <td>1148391</td>\n",
       "    </tr>\n",
       "  </tbody>\n",
       "</table>\n",
       "</div>"
      ],
      "text/plain": [
       "  symbol        date      open      high       low     close    volume\n",
       "0    AAL  2014-01-02   25.0700   25.8200   25.0600   25.3600   8998943\n",
       "1   AAPL  2014-01-02   79.3828   79.5756   78.8601   79.0185  58791957\n",
       "2    AAP  2014-01-02  110.3600  111.8800  109.2900  109.7400    542711\n",
       "3   ABBV  2014-01-02   52.1200   52.3300   51.5200   51.9800   4569061\n",
       "4    ABC  2014-01-02   70.1100   70.2300   69.4800   69.8900   1148391"
      ]
     },
     "execution_count": 2,
     "metadata": {},
     "output_type": "execute_result"
    }
   ],
   "source": [
    "# import data\n",
    "stock_df = pd.read_csv('S&P 500 Stock Prices 2014-2017.csv')\n",
    "stock_df.head()"
   ]
  },
  {
   "cell_type": "code",
   "execution_count": 3,
   "id": "67c30c1e-3e35-4f4c-b28c-9971a8368e06",
   "metadata": {},
   "outputs": [],
   "source": [
    "# make a copy\n",
    "stk_cpy = stock_df.copy()"
   ]
  },
  {
   "cell_type": "code",
   "execution_count": 4,
   "id": "0fd857f0-0f9c-4023-9140-c84327788eab",
   "metadata": {},
   "outputs": [
    {
     "data": {
      "text/html": [
       "<div>\n",
       "<style scoped>\n",
       "    .dataframe tbody tr th:only-of-type {\n",
       "        vertical-align: middle;\n",
       "    }\n",
       "\n",
       "    .dataframe tbody tr th {\n",
       "        vertical-align: top;\n",
       "    }\n",
       "\n",
       "    .dataframe thead th {\n",
       "        text-align: right;\n",
       "    }\n",
       "</style>\n",
       "<table border=\"1\" class=\"dataframe\">\n",
       "  <thead>\n",
       "    <tr style=\"text-align: right;\">\n",
       "      <th></th>\n",
       "      <th>symbol</th>\n",
       "      <th>open</th>\n",
       "      <th>high</th>\n",
       "      <th>low</th>\n",
       "      <th>close</th>\n",
       "      <th>volume</th>\n",
       "      <th>year</th>\n",
       "      <th>month</th>\n",
       "      <th>day</th>\n",
       "      <th>day_name</th>\n",
       "    </tr>\n",
       "  </thead>\n",
       "  <tbody>\n",
       "    <tr>\n",
       "      <th>0</th>\n",
       "      <td>AAL</td>\n",
       "      <td>25.0700</td>\n",
       "      <td>25.8200</td>\n",
       "      <td>25.0600</td>\n",
       "      <td>25.3600</td>\n",
       "      <td>8998943</td>\n",
       "      <td>2014</td>\n",
       "      <td>1</td>\n",
       "      <td>2</td>\n",
       "      <td>Thursday</td>\n",
       "    </tr>\n",
       "    <tr>\n",
       "      <th>1</th>\n",
       "      <td>AAPL</td>\n",
       "      <td>79.3828</td>\n",
       "      <td>79.5756</td>\n",
       "      <td>78.8601</td>\n",
       "      <td>79.0185</td>\n",
       "      <td>58791957</td>\n",
       "      <td>2014</td>\n",
       "      <td>1</td>\n",
       "      <td>2</td>\n",
       "      <td>Thursday</td>\n",
       "    </tr>\n",
       "    <tr>\n",
       "      <th>2</th>\n",
       "      <td>AAP</td>\n",
       "      <td>110.3600</td>\n",
       "      <td>111.8800</td>\n",
       "      <td>109.2900</td>\n",
       "      <td>109.7400</td>\n",
       "      <td>542711</td>\n",
       "      <td>2014</td>\n",
       "      <td>1</td>\n",
       "      <td>2</td>\n",
       "      <td>Thursday</td>\n",
       "    </tr>\n",
       "    <tr>\n",
       "      <th>3</th>\n",
       "      <td>ABBV</td>\n",
       "      <td>52.1200</td>\n",
       "      <td>52.3300</td>\n",
       "      <td>51.5200</td>\n",
       "      <td>51.9800</td>\n",
       "      <td>4569061</td>\n",
       "      <td>2014</td>\n",
       "      <td>1</td>\n",
       "      <td>2</td>\n",
       "      <td>Thursday</td>\n",
       "    </tr>\n",
       "    <tr>\n",
       "      <th>4</th>\n",
       "      <td>ABC</td>\n",
       "      <td>70.1100</td>\n",
       "      <td>70.2300</td>\n",
       "      <td>69.4800</td>\n",
       "      <td>69.8900</td>\n",
       "      <td>1148391</td>\n",
       "      <td>2014</td>\n",
       "      <td>1</td>\n",
       "      <td>2</td>\n",
       "      <td>Thursday</td>\n",
       "    </tr>\n",
       "  </tbody>\n",
       "</table>\n",
       "</div>"
      ],
      "text/plain": [
       "  symbol      open      high       low     close    volume  year  month  day  \\\n",
       "0    AAL   25.0700   25.8200   25.0600   25.3600   8998943  2014      1    2   \n",
       "1   AAPL   79.3828   79.5756   78.8601   79.0185  58791957  2014      1    2   \n",
       "2    AAP  110.3600  111.8800  109.2900  109.7400    542711  2014      1    2   \n",
       "3   ABBV   52.1200   52.3300   51.5200   51.9800   4569061  2014      1    2   \n",
       "4    ABC   70.1100   70.2300   69.4800   69.8900   1148391  2014      1    2   \n",
       "\n",
       "   day_name  \n",
       "0  Thursday  \n",
       "1  Thursday  \n",
       "2  Thursday  \n",
       "3  Thursday  \n",
       "4  Thursday  "
      ]
     },
     "execution_count": 4,
     "metadata": {},
     "output_type": "execute_result"
    }
   ],
   "source": [
    "# extract the year, month and day from the date to know more about the data and drop the date column\n",
    "stk_cpy['year'] = pd.to_datetime(stk_cpy['date']).dt.year\n",
    "stk_cpy['month'] = pd.to_datetime(stk_cpy['date']).dt.month\n",
    "stk_cpy['day'] = pd.to_datetime(stk_cpy['date']).dt.day\n",
    "stk_cpy['day_name'] = pd.to_datetime(stk_cpy['date']).dt.day_name()\n",
    "\n",
    "# drop date column\n",
    "stk_cpy = stk_cpy.drop('date', axis=1)\n",
    "stk_cpy.head()"
   ]
  },
  {
   "cell_type": "code",
   "execution_count": 5,
   "id": "16aa31a2-ff92-4103-96c3-1027342570c2",
   "metadata": {},
   "outputs": [
    {
     "name": "stdout",
     "output_type": "stream",
     "text": [
      "Year: [2014 2015 2016 2017]\n",
      "\n",
      "Day Name: ['Thursday' 'Friday' 'Monday' 'Tuesday' 'Wednesday']\n",
      "\n",
      "Month: [ 1  2  3  4  5  6  7  8  9 10 11 12]\n",
      "\n",
      "Day: [ 2  3  6  7  8  9 10 13 14 15 16 17 21 22 23 24 27 28 29 30 31  4  5 11\n",
      " 12 18 19 20 25 26  1]\n"
     ]
    }
   ],
   "source": [
    "# check the year, month, day, day_name to check for any anomalies\n",
    "print(f\"Year: {stk_cpy['year'].unique()}\")\n",
    "print(f\"\\nDay Name: {stk_cpy['day_name'].unique()}\")\n",
    "print(f\"\\nMonth: {stk_cpy['month'].unique()}\")\n",
    "print(f\"\\nDay: {stk_cpy['day'].unique()}\")"
   ]
  },
  {
   "cell_type": "markdown",
   "id": "d1c4a5df-62c0-4f2b-bb2d-f6a0a3417426",
   "metadata": {},
   "source": [
    "# there are two tasks to perform\n",
    "1. to predict stock prices\n",
    "2. to predict whether a price will go up and down\n",
    "\n",
    "# what to do\n",
    "1. to isolate one stock and build a prediction model around that\n",
    "2. to separate the dataset from 2014 to 2016 and test the data on the 2017 data to see the accuracy of the model"
   ]
  },
  {
   "cell_type": "code",
   "execution_count": 6,
   "id": "052fcd95-a6b8-4593-9e28-6f258ad9661c",
   "metadata": {},
   "outputs": [
    {
     "data": {
      "text/html": [
       "<div>\n",
       "<style scoped>\n",
       "    .dataframe tbody tr th:only-of-type {\n",
       "        vertical-align: middle;\n",
       "    }\n",
       "\n",
       "    .dataframe tbody tr th {\n",
       "        vertical-align: top;\n",
       "    }\n",
       "\n",
       "    .dataframe thead th {\n",
       "        text-align: right;\n",
       "    }\n",
       "</style>\n",
       "<table border=\"1\" class=\"dataframe\">\n",
       "  <thead>\n",
       "    <tr style=\"text-align: right;\">\n",
       "      <th></th>\n",
       "      <th>symbol</th>\n",
       "      <th>open</th>\n",
       "      <th>high</th>\n",
       "      <th>low</th>\n",
       "      <th>close</th>\n",
       "      <th>volume</th>\n",
       "      <th>year</th>\n",
       "      <th>month</th>\n",
       "      <th>day</th>\n",
       "      <th>day_name</th>\n",
       "    </tr>\n",
       "  </thead>\n",
       "  <tbody>\n",
       "    <tr>\n",
       "      <th>0</th>\n",
       "      <td>AAPL</td>\n",
       "      <td>79.3828</td>\n",
       "      <td>79.5756</td>\n",
       "      <td>78.8601</td>\n",
       "      <td>79.0185</td>\n",
       "      <td>58791957</td>\n",
       "      <td>2014</td>\n",
       "      <td>1</td>\n",
       "      <td>2</td>\n",
       "      <td>Thursday</td>\n",
       "    </tr>\n",
       "    <tr>\n",
       "      <th>1</th>\n",
       "      <td>AAPL</td>\n",
       "      <td>78.9799</td>\n",
       "      <td>79.0999</td>\n",
       "      <td>77.2042</td>\n",
       "      <td>77.2828</td>\n",
       "      <td>98303870</td>\n",
       "      <td>2014</td>\n",
       "      <td>1</td>\n",
       "      <td>3</td>\n",
       "      <td>Friday</td>\n",
       "    </tr>\n",
       "    <tr>\n",
       "      <th>2</th>\n",
       "      <td>AAPL</td>\n",
       "      <td>76.7785</td>\n",
       "      <td>78.1142</td>\n",
       "      <td>76.2285</td>\n",
       "      <td>77.7042</td>\n",
       "      <td>103359151</td>\n",
       "      <td>2014</td>\n",
       "      <td>1</td>\n",
       "      <td>6</td>\n",
       "      <td>Monday</td>\n",
       "    </tr>\n",
       "    <tr>\n",
       "      <th>3</th>\n",
       "      <td>AAPL</td>\n",
       "      <td>77.7599</td>\n",
       "      <td>77.9942</td>\n",
       "      <td>76.8464</td>\n",
       "      <td>77.1481</td>\n",
       "      <td>79432766</td>\n",
       "      <td>2014</td>\n",
       "      <td>1</td>\n",
       "      <td>7</td>\n",
       "      <td>Tuesday</td>\n",
       "    </tr>\n",
       "    <tr>\n",
       "      <th>4</th>\n",
       "      <td>AAPL</td>\n",
       "      <td>76.9728</td>\n",
       "      <td>77.9371</td>\n",
       "      <td>76.9556</td>\n",
       "      <td>77.6371</td>\n",
       "      <td>64686685</td>\n",
       "      <td>2014</td>\n",
       "      <td>1</td>\n",
       "      <td>8</td>\n",
       "      <td>Wednesday</td>\n",
       "    </tr>\n",
       "  </tbody>\n",
       "</table>\n",
       "</div>"
      ],
      "text/plain": [
       "  symbol     open     high      low    close     volume  year  month  day  \\\n",
       "0   AAPL  79.3828  79.5756  78.8601  79.0185   58791957  2014      1    2   \n",
       "1   AAPL  78.9799  79.0999  77.2042  77.2828   98303870  2014      1    3   \n",
       "2   AAPL  76.7785  78.1142  76.2285  77.7042  103359151  2014      1    6   \n",
       "3   AAPL  77.7599  77.9942  76.8464  77.1481   79432766  2014      1    7   \n",
       "4   AAPL  76.9728  77.9371  76.9556  77.6371   64686685  2014      1    8   \n",
       "\n",
       "    day_name  \n",
       "0   Thursday  \n",
       "1     Friday  \n",
       "2     Monday  \n",
       "3    Tuesday  \n",
       "4  Wednesday  "
      ]
     },
     "execution_count": 6,
     "metadata": {},
     "output_type": "execute_result"
    }
   ],
   "source": [
    "# let's use the apple stock and divide into training and testing data\n",
    "apple_stock = stk_cpy[(stk_cpy['symbol'] == 'AAPL')].reset_index(drop=True)\n",
    "apple_stock.head()"
   ]
  },
  {
   "cell_type": "code",
   "execution_count": null,
   "id": "e0f03ced-49cc-48c5-8f02-57994a9402b0",
   "metadata": {},
   "outputs": [],
   "source": []
  },
  {
   "cell_type": "code",
   "execution_count": 7,
   "id": "9fdfeada-ba25-4441-b320-fab6c42fc50f",
   "metadata": {},
   "outputs": [],
   "source": [
    "# perform the eda on the apple stock\n",
    "def perform_eda(data, target_column=None, num_bins=20):\n",
    "    \"\"\"\n",
    "    Performs exploratory data analysis (EDA) on a dataset.\n",
    "\n",
    "    Args:\n",
    "        data (pd.DataFrame): The dataset to analyze.\n",
    "        target_column (str, optional): Name of the target column for analysis. Defaults to None.\n",
    "        num_bins (int, optional): Number of bins for histograms. Defaults to 20.\n",
    "\n",
    "    Returns:\n",
    "        None: Displays EDA results including statistics, distributions, and visualizations.\n",
    "    \"\"\"\n",
    "    print(\"===== EDA Summary =====\\n\")\n",
    "    \n",
    "    # 1. Basic Information\n",
    "    print(\"1. Basic Information:\")\n",
    "    print(f\"Shape of dataset: {data.shape}\")\n",
    "    print(\"\\nData Types:\\n\", data.dtypes)\n",
    "    print(\"\\nSample Data:\\n\", data.head(), \"\\n\")\n",
    "\n",
    "    # 2. Check for Missing Values\n",
    "    print(\"2. Missing Values:\")\n",
    "    missing_values = data.isnull().sum()\n",
    "    if missing_values.any():\n",
    "        print(missing_values[missing_values > 0], \"\\n\")\n",
    "    else:\n",
    "        print(\"No missing values detected.\\n\")\n",
    "    \n",
    "    # 3. Summary Statistics\n",
    "    print(\"3. Summary Statistics:\")\n",
    "    print(data.describe(include='all'), \"\\n\")\n",
    "\n",
    "    # 4. Target Column Analysis\n",
    "    if target_column and target_column in data.columns:\n",
    "        print(f\"4. Target Column Analysis: {target_column}\")\n",
    "        if data[target_column].dtype == 'object':\n",
    "            # If the target column is categorical\n",
    "            print(\"\\nValue Counts:\\n\", data[target_column].value_counts(), \"\\n\")\n",
    "            try:\n",
    "                plt.figure(figsize=(8, 4))\n",
    "                sns.countplot(y=target_column, data=data, order=data[target_column].value_counts().index)\n",
    "                plt.title(f'Distribution of Target Column: {target_column}')\n",
    "                plt.tight_layout()  # Adjust layout to prevent overlap\n",
    "                plt.show()\n",
    "            except Exception as e:\n",
    "                print(f\"Error plotting target column: {e}\")\n",
    "        elif data[target_column].dtype in ['int64', 'float64']:\n",
    "            # If the target column is numeric (int64 or float64)\n",
    "            try:\n",
    "                sns.histplot(data[target_column], kde=True, bins=num_bins)\n",
    "                plt.title(f'Distribution of Target Column: {target_column}')\n",
    "                plt.tight_layout()\n",
    "                plt.show()\n",
    "            except Exception as e:\n",
    "                print(f\"Error plotting target column: {e}\")\n",
    "    else:\n",
    "        print(\"No target column specified or invalid target column.\")\n",
    "\n",
    "    # 5. Visualizations for Numeric Features\n",
    "    print(\"5. Numeric Feature Distributions:\")\n",
    "    numeric_columns = data.select_dtypes(include=['float64', 'int64']).columns\n",
    "    if len(numeric_columns) > 0:\n",
    "        try:\n",
    "            data[numeric_columns].hist(figsize=(12, 8), bins=num_bins)\n",
    "            plt.suptitle(\"Numeric Feature Distributions\", fontsize=16)\n",
    "            plt.tight_layout()\n",
    "            plt.show()\n",
    "        except Exception as e:\n",
    "            print(f\"Error plotting numeric distributions: {e}\")\n",
    "    else:\n",
    "        print(\"No numeric column found to plot\")\n",
    "\n",
    "    # 6. Correlation Heatmap\n",
    "    print(\"6. Correlation Analysis:\")\n",
    "    if len(numeric_columns) > 0:\n",
    "        try:\n",
    "            correlation_matrix = data[numeric_columns].corr()\n",
    "            sns.heatmap(correlation_matrix, annot=True, cmap='coolwarm', fmt=\".2f\")\n",
    "            plt.title(\"Correlation Heatmap\")\n",
    "            plt.tight_layout()\n",
    "            plt.show()\n",
    "        except Exception as e:\n",
    "            print(f\"Error plotting heatmap: {e}\")\n",
    "    else:\n",
    "        print(\"No numeric column found to perform correlation\")\n",
    "\n",
    "    # 7. Categorical Feature Analysis\n",
    "    print(\"7. Categorical Features:\")\n",
    "    categorical_columns = data.select_dtypes(include=['object', 'category']).columns\n",
    "    if len(categorical_columns) > 0:\n",
    "        for column in categorical_columns:\n",
    "            try:\n",
    "                print(f\"\\nValue Counts for {column}:\\n\", data[column].value_counts())\n",
    "                plt.figure(figsize=(8, 4))\n",
    "                sns.countplot(y=column, data=data, order=data[column].value_counts().index)\n",
    "                plt.title(f\"Distribution of {column}\")\n",
    "                plt.tight_layout()\n",
    "                plt.show()\n",
    "            except Exception as e:\n",
    "                print(f\"Error plotting {column}: {e}\")\n",
    "    else:\n",
    "        print(\"No categorical features found.\")\n",
    "\n",
    "    print(\"\\n===== EDA Complete =====\")\n"
   ]
  },
  {
   "cell_type": "code",
   "execution_count": 8,
   "id": "24877c4f-1fa2-454a-b015-5f60f86e8dc4",
   "metadata": {
    "scrolled": true
   },
   "outputs": [
    {
     "name": "stdout",
     "output_type": "stream",
     "text": [
      "===== EDA Summary =====\n",
      "\n",
      "1. Basic Information:\n",
      "Shape of dataset: (1007, 10)\n",
      "\n",
      "Data Types:\n",
      " symbol       object\n",
      "open        float64\n",
      "high        float64\n",
      "low         float64\n",
      "close       float64\n",
      "volume        int64\n",
      "year          int32\n",
      "month         int32\n",
      "day           int32\n",
      "day_name     object\n",
      "dtype: object\n",
      "\n",
      "Sample Data:\n",
      "   symbol     open     high      low    close     volume  year  month  day  \\\n",
      "0   AAPL  79.3828  79.5756  78.8601  79.0185   58791957  2014      1    2   \n",
      "1   AAPL  78.9799  79.0999  77.2042  77.2828   98303870  2014      1    3   \n",
      "2   AAPL  76.7785  78.1142  76.2285  77.7042  103359151  2014      1    6   \n",
      "3   AAPL  77.7599  77.9942  76.8464  77.1481   79432766  2014      1    7   \n",
      "4   AAPL  76.9728  77.9371  76.9556  77.6371   64686685  2014      1    8   \n",
      "\n",
      "    day_name  \n",
      "0   Thursday  \n",
      "1     Friday  \n",
      "2     Monday  \n",
      "3    Tuesday  \n",
      "4  Wednesday   \n",
      "\n",
      "2. Missing Values:\n",
      "No missing values detected.\n",
      "\n",
      "3. Summary Statistics:\n",
      "       symbol         open         high          low        close  \\\n",
      "count    1007  1007.000000  1007.000000  1007.000000  1007.000000   \n",
      "unique      1          NaN          NaN          NaN          NaN   \n",
      "top      AAPL          NaN          NaN          NaN          NaN   \n",
      "freq     1007          NaN          NaN          NaN          NaN   \n",
      "mean      NaN   116.811396   117.747015   115.856082   116.839892   \n",
      "std       NaN    24.556211    24.621772    24.431921    24.547273   \n",
      "min       NaN    70.739900    71.647100    70.507100    71.397400   \n",
      "25%       NaN    98.885000   100.130000    98.280000    99.025000   \n",
      "50%       NaN   113.050000   114.190000   111.970000   113.050000   \n",
      "75%       NaN   129.215000   130.535000   128.315000   129.360000   \n",
      "max       NaN   175.110000   177.200000   174.860000   176.420000   \n",
      "\n",
      "              volume         year        month          day   day_name  \n",
      "count   1.007000e+03  1007.000000  1007.000000  1007.000000       1007  \n",
      "unique           NaN          NaN          NaN          NaN          5  \n",
      "top              NaN          NaN          NaN          NaN  Wednesday  \n",
      "freq             NaN          NaN          NaN          NaN        208  \n",
      "mean    4.516957e+07  2015.498510     6.552135    15.748759        NaN  \n",
      "std     2.490233e+07     1.118144     3.425581     8.753155        NaN  \n",
      "min     1.147592e+07  2014.000000     1.000000     1.000000        NaN  \n",
      "25%     2.743226e+07  2014.500000     4.000000     8.000000        NaN  \n",
      "50%     3.923261e+07  2015.000000     7.000000    16.000000        NaN  \n",
      "75%     5.558268e+07  2016.000000    10.000000    23.000000        NaN  \n",
      "max     2.668336e+08  2017.000000    12.000000    31.000000        NaN   \n",
      "\n",
      "No target column specified or invalid target column.\n",
      "5. Numeric Feature Distributions:\n"
     ]
    },
    {
     "data": {
      "image/png": "[encoded data removed]",
      "text/plain": [
       "<Figure size 1200x800 with 6 Axes>"
      ]
     },
     "metadata": {},
     "output_type": "display_data"
    },
    {
     "name": "stdout",
     "output_type": "stream",
     "text": [
      "6. Correlation Analysis:\n"
     ]
    },
    {
     "data": {
      "image/png": "[encoded data removed]",
      "text/plain": [
       "<Figure size 640x480 with 2 Axes>"
      ]
     },
     "metadata": {},
     "output_type": "display_data"
    },
    {
     "name": "stdout",
     "output_type": "stream",
     "text": [
      "7. Categorical Features:\n",
      "\n",
      "Value Counts for symbol:\n",
      " symbol\n",
      "AAPL    1007\n",
      "Name: count, dtype: int64\n"
     ]
    },
    {
     "data": {
      "image/png": "[encoded data removed]",
      "text/plain": [
       "<Figure size 800x400 with 1 Axes>"
      ]
     },
     "metadata": {},
     "output_type": "display_data"
    },
    {
     "name": "stdout",
     "output_type": "stream",
     "text": [
      "\n",
      "Value Counts for day_name:\n",
      " day_name\n",
      "Wednesday    208\n",
      "Tuesday      207\n",
      "Thursday     203\n",
      "Friday       201\n",
      "Monday       188\n",
      "Name: count, dtype: int64\n"
     ]
    },
    {
     "data": {
      "image/png": "[encoded data removed]",
      "text/plain": [
       "<Figure size 800x400 with 1 Axes>"
      ]
     },
     "metadata": {},
     "output_type": "display_data"
    },
    {
     "name": "stdout",
     "output_type": "stream",
     "text": [
      "\n",
      "===== EDA Complete =====\n"
     ]
    }
   ],
   "source": [
    "perform_eda(apple_stock)"
   ]
  },
  {
   "cell_type": "code",
   "execution_count": null,
   "id": "75176cfa-07b4-4b2f-b920-62adc98e19ad",
   "metadata": {},
   "outputs": [],
   "source": []
  },
  {
   "cell_type": "code",
   "execution_count": null,
   "id": "d4e3cdd5-0746-4f72-91f5-ac6f9b1dafa1",
   "metadata": {},
   "outputs": [],
   "source": []
  },
  {
   "cell_type": "code",
   "execution_count": 9,
   "id": "219b5435-5fc5-4014-a7f7-3be82191daf5",
   "metadata": {},
   "outputs": [],
   "source": [
    "# split the data into training and testing sets\n",
    "apple_d1 = apple_stock[(apple_stock['year'] >= 2014) & (apple_stock['year'] <= 2016)]\n",
    "apple_d2 = apple_stock[apple_stock['year'] == 2017]"
   ]
  },
  {
   "cell_type": "code",
   "execution_count": 10,
   "id": "9226445d-66f6-4167-a400-cbfa55ab5448",
   "metadata": {},
   "outputs": [
    {
     "data": {
      "text/plain": [
       "(756, 10)"
      ]
     },
     "execution_count": 10,
     "metadata": {},
     "output_type": "execute_result"
    }
   ],
   "source": [
    "apple_d1.shape"
   ]
  },
  {
   "cell_type": "code",
   "execution_count": 11,
   "id": "18a975ce-174d-46a3-a489-39c63e7f6b66",
   "metadata": {},
   "outputs": [
    {
     "data": {
      "text/plain": [
       "(251, 10)"
      ]
     },
     "execution_count": 11,
     "metadata": {},
     "output_type": "execute_result"
    }
   ],
   "source": [
    "apple_d2.shape"
   ]
  },
  {
   "cell_type": "markdown",
   "id": "3174cb6c-2f09-4be7-aaf1-b634557ab720",
   "metadata": {},
   "source": [
    "# TASK 1 -- predicting apple stock prices"
   ]
  },
  {
   "cell_type": "code",
   "execution_count": 12,
   "id": "0ed0fffe-fce4-46ee-b62c-e24ec9a995cf",
   "metadata": {},
   "outputs": [],
   "source": [
    "# divide the data\n",
    "X1 = apple_d1.drop(['close','symbol'], axis=1)\n",
    "y1 = apple_d1['close']\n",
    "\n",
    "# same for testing data\n",
    "X2 = apple_d2.drop(['close','symbol'], axis=1)\n",
    "y2 = apple_d2['close']"
   ]
  },
  {
   "cell_type": "code",
   "execution_count": 13,
   "id": "dda5bc31-c9e1-411c-b2a0-18749fbc16ce",
   "metadata": {},
   "outputs": [],
   "source": [
    "# Encode 'day_name' column\n",
    "day_name_encoder = LabelEncoder()\n",
    "X1['day_name_encoded'] = day_name_encoder.fit_transform(X1['day_name'])\n",
    "X2['day_name_encoded'] = day_name_encoder.transform(X2['day_name'])\n",
    "\n",
    "# Drop redundant columns\n",
    "X1 = X1.drop('day_name', axis=1)\n",
    "X2 = X2.drop('day_name', axis=1)\n"
   ]
  },
  {
   "cell_type": "code",
   "execution_count": 14,
   "id": "5cc494ab-61c5-47e4-bb7a-c2baafe22373",
   "metadata": {
    "scrolled": true
   },
   "outputs": [],
   "source": [
    "# scale the data\n",
    "scaler = StandardScaler()\n",
    "X1_scaled = scaler.fit_transform(X1)\n",
    "X2_scaled = scaler.transform(X2)"
   ]
  },
  {
   "cell_type": "code",
   "execution_count": 15,
   "id": "a2979951-ef67-4f14-adfd-191eb72b795b",
   "metadata": {},
   "outputs": [],
   "source": [
    "# Train and Test Split for Time Series (Train: 2014-2016, Test: 2017)\n",
    "X_train = X1_scaled\n",
    "y_train = y1\n",
    "X_test = X2_scaled\n",
    "y_test = y2"
   ]
  },
  {
   "cell_type": "code",
   "execution_count": 16,
   "id": "7dc0b1f5-6e06-4085-8a9b-7bbb2a611f79",
   "metadata": {},
   "outputs": [],
   "source": [
    "# Initialize models\n",
    "rf = RandomForestRegressor(random_state=42)\n",
    "xgb = XGBRegressor(random_state=42, use_label_encoder=False, eval_metric=\"rmse\")\n",
    "lr = LinearRegression()\n",
    "gb = GradientBoostingRegressor(random_state=42)"
   ]
  },
  {
   "cell_type": "code",
   "execution_count": 17,
   "id": "7f8c1649-ed27-440b-8f91-0154f18c167f",
   "metadata": {},
   "outputs": [
    {
     "name": "stdout",
     "output_type": "stream",
     "text": [
      "RandomForestRegressor on 2017 - Mean Squared Error: 549.4701904789332\n",
      "RandomForestRegressor on 2017 - R-squared: -1.577452644533822\n"
     ]
    }
   ],
   "source": [
    "# Train and evaluate RandomForestRegressor\n",
    "rf.fit(X_train, y_train)\n",
    "rf_y_pred = rf.predict(X_test)\n",
    "\n",
    "# Evaluate RandomForestRegressor\n",
    "rf_mse = mean_squared_error(y_test, rf_y_pred)\n",
    "rf_r2 = r2_score(y_test, rf_y_pred)\n",
    "print(f\"RandomForestRegressor on 2017 - Mean Squared Error: {rf_mse}\")\n",
    "print(f\"RandomForestRegressor on 2017 - R-squared: {rf_r2}\")"
   ]
  },
  {
   "cell_type": "code",
   "execution_count": 18,
   "id": "a722f6fe-7580-4785-b12a-62d4c9470a9b",
   "metadata": {},
   "outputs": [
    {
     "name": "stdout",
     "output_type": "stream",
     "text": [
      "XGBRegressor on 2017 - Mean Squared Error: 564.3507550768741\n",
      "XGBRegressor on 2017 - R-squared: -1.647254339402271\n"
     ]
    },
    {
     "name": "stderr",
     "output_type": "stream",
     "text": [
      "C:\\Users\\alber\\anaconda3\\envs\\Personal\\Lib\\site-packages\\xgboost\\core.py:158: UserWarning: [15:02:51] WARNING: C:\\buildkite-agent\\builds\\buildkite-windows-cpu-autoscaling-group-i-0c55ff5f71b100e98-1\\xgboost\\xgboost-ci-windows\\src\\learner.cc:740: \n",
      "Parameters: { \"use_label_encoder\" } are not used.\n",
      "\n",
      "  warnings.warn(smsg, UserWarning)\n"
     ]
    }
   ],
   "source": [
    "# Train and evaluate XGBRegressor\n",
    "xgb.fit(X_train, y_train)\n",
    "xgb_y_pred = xgb.predict(X_test)\n",
    "\n",
    "# Evaluate XGBRegressor\n",
    "xgb_mse = mean_squared_error(y_test, xgb_y_pred)\n",
    "xgb_r2 = r2_score(y_test, xgb_y_pred)\n",
    "print(f\"XGBRegressor on 2017 - Mean Squared Error: {xgb_mse}\")\n",
    "print(f\"XGBRegressor on 2017 - R-squared: {xgb_r2}\")"
   ]
  },
  {
   "cell_type": "code",
   "execution_count": 19,
   "id": "153b49f5-5e01-4bca-b089-3bea8666a85a",
   "metadata": {},
   "outputs": [
    {
     "name": "stdout",
     "output_type": "stream",
     "text": [
      "Linear Regression on 2017 - Mean Squared Error: 0.27088982752063584\n",
      "Linear Regression on 2017 - R-squared: 0.9987293110446778\n"
     ]
    }
   ],
   "source": [
    "# Linear Regression Model\n",
    "\n",
    "lr.fit(X_train, y_train)\n",
    "lr_y_pred = lr.predict(X_test)\n",
    "\n",
    "# Evaluate Linear Regression\n",
    "lr_mse = mean_squared_error(y_test, lr_y_pred)\n",
    "lr_r2 = r2_score(y_test, lr_y_pred)\n",
    "print(f\"Linear Regression on 2017 - Mean Squared Error: {lr_mse}\")\n",
    "print(f\"Linear Regression on 2017 - R-squared: {lr_r2}\")"
   ]
  },
  {
   "cell_type": "code",
   "execution_count": 20,
   "id": "9e97b693-7b95-4179-aa64-222c4e5cafa2",
   "metadata": {},
   "outputs": [
    {
     "name": "stdout",
     "output_type": "stream",
     "text": [
      "Gradient Boosting on 2017 - Mean Squared Error: 542.2531392020625\n",
      "Gradient Boosting on 2017 - R-squared: -1.5435989283147618\n"
     ]
    }
   ],
   "source": [
    "# Gradient Boosting Model\n",
    "\n",
    "gb.fit(X_train, y_train)\n",
    "gb_y_pred = gb.predict(X_test)\n",
    "\n",
    "# Evaluate Gradient Boosting\n",
    "gb_mse = mean_squared_error(y_test, gb_y_pred)\n",
    "gb_r2 = r2_score(y_test, gb_y_pred)\n",
    "print(f\"Gradient Boosting on 2017 - Mean Squared Error: {gb_mse}\")\n",
    "print(f\"Gradient Boosting on 2017 - R-squared: {gb_r2}\")"
   ]
  },
  {
   "cell_type": "markdown",
   "id": "17ca5c50-0050-427a-b8ac-6dd50b0503c4",
   "metadata": {},
   "source": [
    "# NOTES\n",
    "1. the linear model performed better. this is largely due to the fact that the data shows a linear relationship.\n",
    "2. the other complex models performed very poorly."
   ]
  },
  {
   "cell_type": "code",
   "execution_count": 21,
   "id": "66caaa4a-266d-409e-8adb-b513c8d5751e",
   "metadata": {
    "scrolled": true
   },
   "outputs": [
    {
     "name": "stdout",
     "output_type": "stream",
     "text": [
      "      Actual   Predicted\n",
      "957   155.98  155.602201\n",
      "958   156.25  157.001173\n",
      "959   156.17  156.410332\n",
      "960   157.10  157.125861\n",
      "961   156.41  156.104369\n",
      "962   157.41  157.339201\n",
      "963   163.05  162.253800\n",
      "964   166.72  167.077009\n",
      "965   169.04  168.496576\n",
      "966   166.89  166.556899\n",
      "967   168.11  166.466402\n",
      "968   172.50  171.888424\n",
      "969   174.25  173.989613\n",
      "970   174.81  174.776269\n",
      "971   176.24  175.705102\n",
      "972   175.88  174.345671\n",
      "973   174.67  174.664227\n",
      "974   173.97  174.244067\n",
      "975   171.34  171.914559\n",
      "976   169.08  168.980350\n",
      "977   171.10  171.033102\n",
      "978   170.15  170.195002\n",
      "979   169.98  169.917053\n",
      "980   173.14  173.133523\n",
      "981   174.96  174.424950\n",
      "982   174.97  175.041084\n",
      "983   174.09  173.671167\n",
      "984   173.07  172.771336\n",
      "985   169.48  168.431140\n",
      "986   171.85  170.156162\n",
      "987   171.05  170.194339\n",
      "988   169.80  170.326236\n",
      "989   169.64  170.551188\n",
      "990   169.01  168.884571\n",
      "991   169.32  170.092641\n",
      "992   169.37  169.577550\n",
      "993   172.67  171.854544\n",
      "994   171.70  171.803978\n",
      "995   172.27  172.948497\n",
      "996   172.22  172.392782\n",
      "997   173.97  173.095383\n",
      "998   176.42  176.719739\n",
      "999   174.54  174.547777\n",
      "1000  174.35  174.004570\n",
      "1001  175.01  175.593836\n",
      "1002  175.01  175.114946\n",
      "1003  170.57  170.395158\n",
      "1004  170.60  170.304012\n",
      "1005  171.08  171.236643\n",
      "1006  169.23  169.476976\n"
     ]
    }
   ],
   "source": [
    "# Create a DataFrame to compare actual vs predicted values\n",
    "comparison_df = pd.DataFrame({\n",
    "    'Actual': y_test,\n",
    "    'Predicted': lr_y_pred\n",
    "})\n",
    "\n",
    "# Display the comparison\n",
    "print(comparison_df.tail(50))"
   ]
  },
  {
   "cell_type": "code",
   "execution_count": null,
   "id": "5dd307a2-ff1c-42e4-afaa-9f3e422250f4",
   "metadata": {},
   "outputs": [],
   "source": []
  },
  {
   "cell_type": "code",
   "execution_count": null,
   "id": "8505dce4-824b-40a7-a4a5-0cfa667a9362",
   "metadata": {},
   "outputs": [],
   "source": []
  },
  {
   "cell_type": "markdown",
   "id": "099be334-7a88-4505-88d9-fbb590346fab",
   "metadata": {},
   "source": [
    "# the linear regression model performed very good. I will move on to predict the direction of stocks and its rate. I will still use the same apple stock."
   ]
  },
  {
   "cell_type": "markdown",
   "id": "146986ea-a644-4175-a37c-b6844b499d32",
   "metadata": {},
   "source": [
    "# TASK 2"
   ]
  },
  {
   "cell_type": "code",
   "execution_count": 22,
   "id": "81d877de-b30a-47cf-9d38-763e18897333",
   "metadata": {},
   "outputs": [
    {
     "data": {
      "text/html": [
       "<div>\n",
       "<style scoped>\n",
       "    .dataframe tbody tr th:only-of-type {\n",
       "        vertical-align: middle;\n",
       "    }\n",
       "\n",
       "    .dataframe tbody tr th {\n",
       "        vertical-align: top;\n",
       "    }\n",
       "\n",
       "    .dataframe thead th {\n",
       "        text-align: right;\n",
       "    }\n",
       "</style>\n",
       "<table border=\"1\" class=\"dataframe\">\n",
       "  <thead>\n",
       "    <tr style=\"text-align: right;\">\n",
       "      <th></th>\n",
       "      <th>symbol</th>\n",
       "      <th>open</th>\n",
       "      <th>high</th>\n",
       "      <th>low</th>\n",
       "      <th>close</th>\n",
       "      <th>volume</th>\n",
       "      <th>year</th>\n",
       "      <th>month</th>\n",
       "      <th>day</th>\n",
       "      <th>day_name</th>\n",
       "      <th>Close_shift1</th>\n",
       "      <th>Close_shift2</th>\n",
       "      <th>rate</th>\n",
       "    </tr>\n",
       "  </thead>\n",
       "  <tbody>\n",
       "    <tr>\n",
       "      <th>0</th>\n",
       "      <td>AAPL</td>\n",
       "      <td>79.3828</td>\n",
       "      <td>79.5756</td>\n",
       "      <td>78.8601</td>\n",
       "      <td>79.0185</td>\n",
       "      <td>58791957</td>\n",
       "      <td>2014</td>\n",
       "      <td>1</td>\n",
       "      <td>2</td>\n",
       "      <td>Thursday</td>\n",
       "      <td>77.2828</td>\n",
       "      <td>77.7042</td>\n",
       "      <td>0.005453</td>\n",
       "    </tr>\n",
       "    <tr>\n",
       "      <th>1</th>\n",
       "      <td>AAPL</td>\n",
       "      <td>78.9799</td>\n",
       "      <td>79.0999</td>\n",
       "      <td>77.2042</td>\n",
       "      <td>77.2828</td>\n",
       "      <td>98303870</td>\n",
       "      <td>2014</td>\n",
       "      <td>1</td>\n",
       "      <td>3</td>\n",
       "      <td>Friday</td>\n",
       "      <td>77.7042</td>\n",
       "      <td>77.1481</td>\n",
       "      <td>-0.007157</td>\n",
       "    </tr>\n",
       "    <tr>\n",
       "      <th>2</th>\n",
       "      <td>AAPL</td>\n",
       "      <td>76.7785</td>\n",
       "      <td>78.1142</td>\n",
       "      <td>76.2285</td>\n",
       "      <td>77.7042</td>\n",
       "      <td>103359151</td>\n",
       "      <td>2014</td>\n",
       "      <td>1</td>\n",
       "      <td>6</td>\n",
       "      <td>Monday</td>\n",
       "      <td>77.1481</td>\n",
       "      <td>77.6371</td>\n",
       "      <td>0.006338</td>\n",
       "    </tr>\n",
       "    <tr>\n",
       "      <th>3</th>\n",
       "      <td>AAPL</td>\n",
       "      <td>77.7599</td>\n",
       "      <td>77.9942</td>\n",
       "      <td>76.8464</td>\n",
       "      <td>77.1481</td>\n",
       "      <td>79432766</td>\n",
       "      <td>2014</td>\n",
       "      <td>1</td>\n",
       "      <td>7</td>\n",
       "      <td>Tuesday</td>\n",
       "      <td>77.6371</td>\n",
       "      <td>76.6455</td>\n",
       "      <td>-0.012772</td>\n",
       "    </tr>\n",
       "    <tr>\n",
       "      <th>4</th>\n",
       "      <td>AAPL</td>\n",
       "      <td>76.9728</td>\n",
       "      <td>77.9371</td>\n",
       "      <td>76.9556</td>\n",
       "      <td>77.6371</td>\n",
       "      <td>64686685</td>\n",
       "      <td>2014</td>\n",
       "      <td>1</td>\n",
       "      <td>8</td>\n",
       "      <td>Wednesday</td>\n",
       "      <td>76.6455</td>\n",
       "      <td>76.1342</td>\n",
       "      <td>-0.006671</td>\n",
       "    </tr>\n",
       "  </tbody>\n",
       "</table>\n",
       "</div>"
      ],
      "text/plain": [
       "  symbol     open     high      low    close     volume  year  month  day  \\\n",
       "0   AAPL  79.3828  79.5756  78.8601  79.0185   58791957  2014      1    2   \n",
       "1   AAPL  78.9799  79.0999  77.2042  77.2828   98303870  2014      1    3   \n",
       "2   AAPL  76.7785  78.1142  76.2285  77.7042  103359151  2014      1    6   \n",
       "3   AAPL  77.7599  77.9942  76.8464  77.1481   79432766  2014      1    7   \n",
       "4   AAPL  76.9728  77.9371  76.9556  77.6371   64686685  2014      1    8   \n",
       "\n",
       "    day_name  Close_shift1  Close_shift2      rate  \n",
       "0   Thursday       77.2828       77.7042  0.005453  \n",
       "1     Friday       77.7042       77.1481 -0.007157  \n",
       "2     Monday       77.1481       77.6371  0.006338  \n",
       "3    Tuesday       77.6371       76.6455 -0.012772  \n",
       "4  Wednesday       76.6455       76.1342 -0.006671  "
      ]
     },
     "execution_count": 22,
     "metadata": {},
     "output_type": "execute_result"
    }
   ],
   "source": [
    "# this code calculates the rate of change in 'close' column over a 2 day period\n",
    "apple_stock[\"Close_shift1\"] = apple_stock[\"close\"].shift(-1)\n",
    "apple_stock[\"Close_shift2\"] = apple_stock[\"close\"].shift(-2)\n",
    "\n",
    "apple_stock[\"rate\"] = (apple_stock[\"Close_shift2\"] - apple_stock[\"Close_shift1\"]) / apple_stock[\"Close_shift1\"]\n",
    "apple_stock.head()"
   ]
  },
  {
   "cell_type": "code",
   "execution_count": 23,
   "id": "81511013-b338-4be9-a7df-6520166fecca",
   "metadata": {},
   "outputs": [
    {
     "data": {
      "text/html": [
       "<div>\n",
       "<style scoped>\n",
       "    .dataframe tbody tr th:only-of-type {\n",
       "        vertical-align: middle;\n",
       "    }\n",
       "\n",
       "    .dataframe tbody tr th {\n",
       "        vertical-align: top;\n",
       "    }\n",
       "\n",
       "    .dataframe thead th {\n",
       "        text-align: right;\n",
       "    }\n",
       "</style>\n",
       "<table border=\"1\" class=\"dataframe\">\n",
       "  <thead>\n",
       "    <tr style=\"text-align: right;\">\n",
       "      <th></th>\n",
       "      <th>symbol</th>\n",
       "      <th>open</th>\n",
       "      <th>high</th>\n",
       "      <th>low</th>\n",
       "      <th>close</th>\n",
       "      <th>volume</th>\n",
       "      <th>year</th>\n",
       "      <th>month</th>\n",
       "      <th>day</th>\n",
       "      <th>day_name</th>\n",
       "      <th>Close_shift1</th>\n",
       "      <th>Close_shift2</th>\n",
       "      <th>rate</th>\n",
       "      <th>Close_diff</th>\n",
       "      <th>Direction</th>\n",
       "    </tr>\n",
       "  </thead>\n",
       "  <tbody>\n",
       "    <tr>\n",
       "      <th>0</th>\n",
       "      <td>AAPL</td>\n",
       "      <td>79.3828</td>\n",
       "      <td>79.5756</td>\n",
       "      <td>78.8601</td>\n",
       "      <td>79.0185</td>\n",
       "      <td>58791957</td>\n",
       "      <td>2014</td>\n",
       "      <td>1</td>\n",
       "      <td>2</td>\n",
       "      <td>Thursday</td>\n",
       "      <td>77.2828</td>\n",
       "      <td>77.7042</td>\n",
       "      <td>0.005453</td>\n",
       "      <td>NaN</td>\n",
       "      <td>No Change</td>\n",
       "    </tr>\n",
       "    <tr>\n",
       "      <th>1</th>\n",
       "      <td>AAPL</td>\n",
       "      <td>78.9799</td>\n",
       "      <td>79.0999</td>\n",
       "      <td>77.2042</td>\n",
       "      <td>77.2828</td>\n",
       "      <td>98303870</td>\n",
       "      <td>2014</td>\n",
       "      <td>1</td>\n",
       "      <td>3</td>\n",
       "      <td>Friday</td>\n",
       "      <td>77.7042</td>\n",
       "      <td>77.1481</td>\n",
       "      <td>-0.007157</td>\n",
       "      <td>-1.7357</td>\n",
       "      <td>Down</td>\n",
       "    </tr>\n",
       "    <tr>\n",
       "      <th>2</th>\n",
       "      <td>AAPL</td>\n",
       "      <td>76.7785</td>\n",
       "      <td>78.1142</td>\n",
       "      <td>76.2285</td>\n",
       "      <td>77.7042</td>\n",
       "      <td>103359151</td>\n",
       "      <td>2014</td>\n",
       "      <td>1</td>\n",
       "      <td>6</td>\n",
       "      <td>Monday</td>\n",
       "      <td>77.1481</td>\n",
       "      <td>77.6371</td>\n",
       "      <td>0.006338</td>\n",
       "      <td>0.4214</td>\n",
       "      <td>Up</td>\n",
       "    </tr>\n",
       "    <tr>\n",
       "      <th>3</th>\n",
       "      <td>AAPL</td>\n",
       "      <td>77.7599</td>\n",
       "      <td>77.9942</td>\n",
       "      <td>76.8464</td>\n",
       "      <td>77.1481</td>\n",
       "      <td>79432766</td>\n",
       "      <td>2014</td>\n",
       "      <td>1</td>\n",
       "      <td>7</td>\n",
       "      <td>Tuesday</td>\n",
       "      <td>77.6371</td>\n",
       "      <td>76.6455</td>\n",
       "      <td>-0.012772</td>\n",
       "      <td>-0.5561</td>\n",
       "      <td>Down</td>\n",
       "    </tr>\n",
       "    <tr>\n",
       "      <th>4</th>\n",
       "      <td>AAPL</td>\n",
       "      <td>76.9728</td>\n",
       "      <td>77.9371</td>\n",
       "      <td>76.9556</td>\n",
       "      <td>77.6371</td>\n",
       "      <td>64686685</td>\n",
       "      <td>2014</td>\n",
       "      <td>1</td>\n",
       "      <td>8</td>\n",
       "      <td>Wednesday</td>\n",
       "      <td>76.6455</td>\n",
       "      <td>76.1342</td>\n",
       "      <td>-0.006671</td>\n",
       "      <td>0.4890</td>\n",
       "      <td>Up</td>\n",
       "    </tr>\n",
       "  </tbody>\n",
       "</table>\n",
       "</div>"
      ],
      "text/plain": [
       "  symbol     open     high      low    close     volume  year  month  day  \\\n",
       "0   AAPL  79.3828  79.5756  78.8601  79.0185   58791957  2014      1    2   \n",
       "1   AAPL  78.9799  79.0999  77.2042  77.2828   98303870  2014      1    3   \n",
       "2   AAPL  76.7785  78.1142  76.2285  77.7042  103359151  2014      1    6   \n",
       "3   AAPL  77.7599  77.9942  76.8464  77.1481   79432766  2014      1    7   \n",
       "4   AAPL  76.9728  77.9371  76.9556  77.6371   64686685  2014      1    8   \n",
       "\n",
       "    day_name  Close_shift1  Close_shift2      rate  Close_diff  Direction  \n",
       "0   Thursday       77.2828       77.7042  0.005453         NaN  No Change  \n",
       "1     Friday       77.7042       77.1481 -0.007157     -1.7357       Down  \n",
       "2     Monday       77.1481       77.6371  0.006338      0.4214         Up  \n",
       "3    Tuesday       77.6371       76.6455 -0.012772     -0.5561       Down  \n",
       "4  Wednesday       76.6455       76.1342 -0.006671      0.4890         Up  "
      ]
     },
     "execution_count": 23,
     "metadata": {},
     "output_type": "execute_result"
    }
   ],
   "source": [
    "# Calculate the consecutive differences in the 'close' column\n",
    "apple_stock[\"Close_diff\"] = apple_stock[\"close\"].diff()\n",
    "\n",
    "# Calculate the change in direction\n",
    "apple_stock[\"Direction\"] = apple_stock[\"Close_diff\"].apply(lambda x: \"Up\" if x > 0 else (\"Down\" if x < 0 else \"No Change\"))\n",
    "\n",
    "# Display the first few rows\n",
    "apple_stock.head()"
   ]
  },
  {
   "cell_type": "code",
   "execution_count": 24,
   "id": "25c21499-f9f8-48ae-8b1e-b3bdfde112de",
   "metadata": {},
   "outputs": [],
   "source": [
    "# drop some columns for now\n",
    "apple_stock = apple_stock.drop(['symbol', 'Close_shift1', 'Close_shift2','Close_diff'], axis=1)"
   ]
  },
  {
   "cell_type": "code",
   "execution_count": 25,
   "id": "0e2c4cca-3c8e-40b3-b6d0-d3e304b90e8a",
   "metadata": {},
   "outputs": [
    {
     "data": {
      "text/html": [
       "<div>\n",
       "<style scoped>\n",
       "    .dataframe tbody tr th:only-of-type {\n",
       "        vertical-align: middle;\n",
       "    }\n",
       "\n",
       "    .dataframe tbody tr th {\n",
       "        vertical-align: top;\n",
       "    }\n",
       "\n",
       "    .dataframe thead th {\n",
       "        text-align: right;\n",
       "    }\n",
       "</style>\n",
       "<table border=\"1\" class=\"dataframe\">\n",
       "  <thead>\n",
       "    <tr style=\"text-align: right;\">\n",
       "      <th></th>\n",
       "      <th>open</th>\n",
       "      <th>high</th>\n",
       "      <th>low</th>\n",
       "      <th>close</th>\n",
       "      <th>volume</th>\n",
       "      <th>year</th>\n",
       "      <th>month</th>\n",
       "      <th>day</th>\n",
       "      <th>day_name</th>\n",
       "      <th>rate</th>\n",
       "      <th>Direction</th>\n",
       "    </tr>\n",
       "  </thead>\n",
       "  <tbody>\n",
       "    <tr>\n",
       "      <th>0</th>\n",
       "      <td>79.3828</td>\n",
       "      <td>79.5756</td>\n",
       "      <td>78.8601</td>\n",
       "      <td>79.0185</td>\n",
       "      <td>58791957</td>\n",
       "      <td>2014</td>\n",
       "      <td>1</td>\n",
       "      <td>2</td>\n",
       "      <td>Thursday</td>\n",
       "      <td>0.005453</td>\n",
       "      <td>No Change</td>\n",
       "    </tr>\n",
       "    <tr>\n",
       "      <th>1</th>\n",
       "      <td>78.9799</td>\n",
       "      <td>79.0999</td>\n",
       "      <td>77.2042</td>\n",
       "      <td>77.2828</td>\n",
       "      <td>98303870</td>\n",
       "      <td>2014</td>\n",
       "      <td>1</td>\n",
       "      <td>3</td>\n",
       "      <td>Friday</td>\n",
       "      <td>-0.007157</td>\n",
       "      <td>Down</td>\n",
       "    </tr>\n",
       "    <tr>\n",
       "      <th>2</th>\n",
       "      <td>76.7785</td>\n",
       "      <td>78.1142</td>\n",
       "      <td>76.2285</td>\n",
       "      <td>77.7042</td>\n",
       "      <td>103359151</td>\n",
       "      <td>2014</td>\n",
       "      <td>1</td>\n",
       "      <td>6</td>\n",
       "      <td>Monday</td>\n",
       "      <td>0.006338</td>\n",
       "      <td>Up</td>\n",
       "    </tr>\n",
       "    <tr>\n",
       "      <th>3</th>\n",
       "      <td>77.7599</td>\n",
       "      <td>77.9942</td>\n",
       "      <td>76.8464</td>\n",
       "      <td>77.1481</td>\n",
       "      <td>79432766</td>\n",
       "      <td>2014</td>\n",
       "      <td>1</td>\n",
       "      <td>7</td>\n",
       "      <td>Tuesday</td>\n",
       "      <td>-0.012772</td>\n",
       "      <td>Down</td>\n",
       "    </tr>\n",
       "    <tr>\n",
       "      <th>4</th>\n",
       "      <td>76.9728</td>\n",
       "      <td>77.9371</td>\n",
       "      <td>76.9556</td>\n",
       "      <td>77.6371</td>\n",
       "      <td>64686685</td>\n",
       "      <td>2014</td>\n",
       "      <td>1</td>\n",
       "      <td>8</td>\n",
       "      <td>Wednesday</td>\n",
       "      <td>-0.006671</td>\n",
       "      <td>Up</td>\n",
       "    </tr>\n",
       "  </tbody>\n",
       "</table>\n",
       "</div>"
      ],
      "text/plain": [
       "      open     high      low    close     volume  year  month  day   day_name  \\\n",
       "0  79.3828  79.5756  78.8601  79.0185   58791957  2014      1    2   Thursday   \n",
       "1  78.9799  79.0999  77.2042  77.2828   98303870  2014      1    3     Friday   \n",
       "2  76.7785  78.1142  76.2285  77.7042  103359151  2014      1    6     Monday   \n",
       "3  77.7599  77.9942  76.8464  77.1481   79432766  2014      1    7    Tuesday   \n",
       "4  76.9728  77.9371  76.9556  77.6371   64686685  2014      1    8  Wednesday   \n",
       "\n",
       "       rate  Direction  \n",
       "0  0.005453  No Change  \n",
       "1 -0.007157       Down  \n",
       "2  0.006338         Up  \n",
       "3 -0.012772       Down  \n",
       "4 -0.006671         Up  "
      ]
     },
     "execution_count": 25,
     "metadata": {},
     "output_type": "execute_result"
    }
   ],
   "source": [
    "apple_stock.head()"
   ]
  },
  {
   "cell_type": "code",
   "execution_count": 26,
   "id": "703bc761-e7aa-443b-9005-35ce7e28dfe3",
   "metadata": {},
   "outputs": [
    {
     "name": "stdout",
     "output_type": "stream",
     "text": [
      "      open     high      low    close     volume  year  month  day      rate  \\\n",
      "0  79.3828  79.5756  78.8601  79.0185   58791957  2014      1    2  0.005453   \n",
      "1  78.9799  79.0999  77.2042  77.2828   98303870  2014      1    3 -0.007157   \n",
      "2  76.7785  78.1142  76.2285  77.7042  103359151  2014      1    6  0.006338   \n",
      "3  77.7599  77.9942  76.8464  77.1481   79432766  2014      1    7 -0.012772   \n",
      "4  76.9728  77.9371  76.9556  77.6371   64686685  2014      1    8 -0.006671   \n",
      "\n",
      "   day_name_encoded  direction_encoded  \n",
      "0                 2                  1  \n",
      "1                 0                  0  \n",
      "2                 1                  2  \n",
      "3                 3                  0  \n",
      "4                 4                  2  \n"
     ]
    }
   ],
   "source": [
    "# Initialize the LabelEncoder\n",
    "label = LabelEncoder()\n",
    "\n",
    "# Apply the label encoder to 'day_name' and 'Direction' separately\n",
    "apple_stock['day_name_encoded'] = label.fit_transform(apple_stock['day_name'])\n",
    "apple_stock['direction_encoded'] = label.fit_transform(apple_stock['Direction'])\n",
    "\n",
    "# Drop the original columns if they are no longer needed\n",
    "apple_stock = apple_stock.drop(['day_name', 'Direction'], axis=1)\n",
    "\n",
    "# Display the first few rows to check\n",
    "print(apple_stock.head())\n"
   ]
  },
  {
   "cell_type": "code",
   "execution_count": null,
   "id": "ad1a7196-79c1-4f50-87a7-5ea172feaa3e",
   "metadata": {},
   "outputs": [],
   "source": []
  },
  {
   "cell_type": "code",
   "execution_count": 27,
   "id": "3824fb38-940a-4333-aaa0-0c321e0a7d6d",
   "metadata": {},
   "outputs": [],
   "source": [
    "# divide into variables\n",
    "X = apple_stock.drop('direction_encoded', axis=1)\n",
    "y = apple_stock['direction_encoded']"
   ]
  },
  {
   "cell_type": "code",
   "execution_count": 30,
   "id": "0d8e76c2-b539-4058-aa2a-634e804d2705",
   "metadata": {},
   "outputs": [
    {
     "data": {
      "text/plain": [
       "open                0\n",
       "high                0\n",
       "low                 0\n",
       "close               0\n",
       "volume              0\n",
       "year                0\n",
       "month               0\n",
       "day                 0\n",
       "rate                0\n",
       "day_name_encoded    0\n",
       "dtype: int64"
      ]
     },
     "execution_count": 30,
     "metadata": {},
     "output_type": "execute_result"
    }
   ],
   "source": [
    "# check for null values\n",
    "X.isnull().sum()"
   ]
  },
  {
   "cell_type": "code",
   "execution_count": 29,
   "id": "0d24c56f-5255-454a-81ff-e74b3c8b481b",
   "metadata": {},
   "outputs": [
    {
     "name": "stdout",
     "output_type": "stream",
     "text": [
      "        open     high      low   close      volume    year  month   day  \\\n",
      "1002  174.68  175.424  174.500  175.01  16349444.0  2017.0   12.0  22.0   \n",
      "1003  170.80  171.470  169.679  170.57  33185536.0  2017.0   12.0  26.0   \n",
      "1004  170.10  170.780  169.710  170.60  21498213.0  2017.0   12.0  27.0   \n",
      "1005  171.00  171.850  170.480  171.08  16480187.0  2017.0   12.0  28.0   \n",
      "1006  170.52  170.590  169.220  169.23  25999922.0  2017.0   12.0  29.0   \n",
      "\n",
      "          rate  day_name_encoded  \n",
      "1002  0.000176               0.0  \n",
      "1003  0.002814               3.0  \n",
      "1004 -0.010814               4.0  \n",
      "1005  0.000882               2.0  \n",
      "1006  0.000882               0.0  \n"
     ]
    }
   ],
   "source": [
    "# impute the missing values with the mean using the sklearn.impute\n",
    "# Create an imputer that will fill missing values with the mean of rate column\n",
    "imputer = SimpleImputer(strategy='mean')\n",
    "\n",
    "# Apply the imputer to the DataFrame\n",
    "X = pd.DataFrame(imputer.fit_transform(X), columns=X.columns)\n",
    "# Display the DataFrame after imputation\n",
    "print(X.tail())"
   ]
  },
  {
   "cell_type": "code",
   "execution_count": 31,
   "id": "995b0d3e-a690-46b8-a0b6-c6b34deed0da",
   "metadata": {},
   "outputs": [],
   "source": [
    "# scale the data\n",
    "scale = MinMaxScaler()\n",
    "X_ = scale.fit_transform(X)"
   ]
  },
  {
   "cell_type": "code",
   "execution_count": 32,
   "id": "f2b3f80c-7e78-4b0e-9b07-d8ea6ea1d86e",
   "metadata": {},
   "outputs": [
    {
     "ename": "NameError",
     "evalue": "name 'X_scaled' is not defined",
     "output_type": "error",
     "traceback": [
      "\u001b[1;31m---------------------------------------------------------------------------\u001b[0m",
      "\u001b[1;31mNameError\u001b[0m                                 Traceback (most recent call last)",
      "Cell \u001b[1;32mIn[32], line 2\u001b[0m\n\u001b[0;32m      1\u001b[0m \u001b[38;5;66;03m# divide into train and test\u001b[39;00m\n\u001b[1;32m----> 2\u001b[0m X_train, X_test, y_train, y_test \u001b[38;5;241m=\u001b[39m train_test_split(X_scaled, y, test_size\u001b[38;5;241m=\u001b[39m\u001b[38;5;241m0.33\u001b[39m, random_state\u001b[38;5;241m=\u001b[39m\u001b[38;5;241m42\u001b[39m)\n",
      "\u001b[1;31mNameError\u001b[0m: name 'X_scaled' is not defined"
     ]
    }
   ],
   "source": [
    "# divide into train and test\n",
    "X_train, X_test, y_train, y_test = train_test_split(X_scaled, y, test_size=0.33, random_state=42)"
   ]
  },
  {
   "cell_type": "code",
   "execution_count": 19,
   "id": "b2470ffa-b086-4152-a252-a5250d4b565f",
   "metadata": {},
   "outputs": [
    {
     "name": "stdout",
     "output_type": "stream",
     "text": [
      "ROC-AUC Score: 0.5457959703235363\n",
      "Accuracy: 0.5765765765765766\n",
      "Confusion Matrix:\n",
      "[[ 80   0  88]\n",
      " [  0   0   1]\n",
      " [ 52   0 112]]\n",
      "Classification Report:\n",
      "              precision    recall  f1-score   support\n",
      "\n",
      "           0       0.61      0.48      0.53       168\n",
      "           1       0.00      0.00      0.00         1\n",
      "           2       0.56      0.68      0.61       164\n",
      "\n",
      "    accuracy                           0.58       333\n",
      "   macro avg       0.39      0.39      0.38       333\n",
      "weighted avg       0.58      0.58      0.57       333\n",
      "\n"
     ]
    },
    {
     "name": "stderr",
     "output_type": "stream",
     "text": [
      "C:\\Users\\alber\\anaconda3\\envs\\Personal\\Lib\\site-packages\\sklearn\\metrics\\_classification.py:1565: UndefinedMetricWarning: Precision is ill-defined and being set to 0.0 in labels with no predicted samples. Use `zero_division` parameter to control this behavior.\n",
      "  _warn_prf(average, modifier, f\"{metric.capitalize()} is\", len(result))\n",
      "C:\\Users\\alber\\anaconda3\\envs\\Personal\\Lib\\site-packages\\sklearn\\metrics\\_classification.py:1565: UndefinedMetricWarning: Precision is ill-defined and being set to 0.0 in labels with no predicted samples. Use `zero_division` parameter to control this behavior.\n",
      "  _warn_prf(average, modifier, f\"{metric.capitalize()} is\", len(result))\n",
      "C:\\Users\\alber\\anaconda3\\envs\\Personal\\Lib\\site-packages\\sklearn\\metrics\\_classification.py:1565: UndefinedMetricWarning: Precision is ill-defined and being set to 0.0 in labels with no predicted samples. Use `zero_division` parameter to control this behavior.\n",
      "  _warn_prf(average, modifier, f\"{metric.capitalize()} is\", len(result))\n"
     ]
    }
   ],
   "source": [
    "# Initialize and train a random classifier model\n",
    "rf = RandomForestClassifier(n_estimators=100, random_state=42)\n",
    "rf.fit(X_train, y_train)\n",
    "\n",
    "# Make predictions\n",
    "y_pred = rf.predict(X_test)\n",
    "\n",
    "# Evaluate the model\n",
    "accuracy = accuracy_score(y_test, y_pred)\n",
    "conf_matrix = confusion_matrix(y_test, y_pred)\n",
    "class_report = classification_report(y_test, y_pred)\n",
    "# One-vs-Rest ROC-AUC score (if applicable)\n",
    "roc_auc = roc_auc_score(y_test, rf.predict_proba(X_test), multi_class='ovr')\n",
    "\n",
    "print(f\"ROC-AUC Score: {roc_auc}\")\n",
    "print(f\"Accuracy: {accuracy}\")\n",
    "print(\"Confusion Matrix:\")\n",
    "print(conf_matrix)\n",
    "print(\"Classification Report:\")\n",
    "print(class_report)"
   ]
  },
  {
   "cell_type": "code",
   "execution_count": 20,
   "id": "1826d72b-9d44-4b9d-986b-826cf940b413",
   "metadata": {},
   "outputs": [
    {
     "name": "stderr",
     "output_type": "stream",
     "text": [
      "C:\\Users\\alber\\anaconda3\\envs\\Personal\\Lib\\site-packages\\xgboost\\core.py:158: UserWarning: [13:57:17] WARNING: C:\\buildkite-agent\\builds\\buildkite-windows-cpu-autoscaling-group-i-0c55ff5f71b100e98-1\\xgboost\\xgboost-ci-windows\\src\\learner.cc:740: \n",
      "Parameters: { \"use_label_encoder\" } are not used.\n",
      "\n",
      "  warnings.warn(smsg, UserWarning)\n"
     ]
    },
    {
     "name": "stdout",
     "output_type": "stream",
     "text": [
      "ROC-AUC Score: 0.6249345212923729\n",
      "accuracy is: 0.6186186186186187\n",
      "              precision    recall  f1-score   support\n",
      "\n",
      "           0       0.66      0.51      0.57       168\n",
      "           1       0.00      0.00      0.00         1\n",
      "           2       0.59      0.74      0.66       164\n",
      "\n",
      "    accuracy                           0.62       333\n",
      "   macro avg       0.42      0.41      0.41       333\n",
      "weighted avg       0.63      0.62      0.61       333\n",
      "\n",
      "Confusion Matrix:\n",
      "[[ 85   0  83]\n",
      " [  0   0   1]\n",
      " [ 43   0 121]]\n"
     ]
    },
    {
     "name": "stderr",
     "output_type": "stream",
     "text": [
      "C:\\Users\\alber\\anaconda3\\envs\\Personal\\Lib\\site-packages\\sklearn\\metrics\\_classification.py:1565: UndefinedMetricWarning: Precision is ill-defined and being set to 0.0 in labels with no predicted samples. Use `zero_division` parameter to control this behavior.\n",
      "  _warn_prf(average, modifier, f\"{metric.capitalize()} is\", len(result))\n",
      "C:\\Users\\alber\\anaconda3\\envs\\Personal\\Lib\\site-packages\\sklearn\\metrics\\_classification.py:1565: UndefinedMetricWarning: Precision is ill-defined and being set to 0.0 in labels with no predicted samples. Use `zero_division` parameter to control this behavior.\n",
      "  _warn_prf(average, modifier, f\"{metric.capitalize()} is\", len(result))\n",
      "C:\\Users\\alber\\anaconda3\\envs\\Personal\\Lib\\site-packages\\sklearn\\metrics\\_classification.py:1565: UndefinedMetricWarning: Precision is ill-defined and being set to 0.0 in labels with no predicted samples. Use `zero_division` parameter to control this behavior.\n",
      "  _warn_prf(average, modifier, f\"{metric.capitalize()} is\", len(result))\n"
     ]
    }
   ],
   "source": [
    "# using the xg boost\n",
    "xgb = XGBClassifier(random_state=42, use_label_encoder=False)\n",
    "xgb.fit(X_train, y_train)\n",
    "\n",
    "y_pred = xgb.predict(X_test)\n",
    "\n",
    "accuracy = accuracy_score(y_test, y_pred)\n",
    "conf_matrix = confusion_matrix(y_test, y_pred)\n",
    "\n",
    "# One-vs-Rest ROC-AUC score (if applicable)\n",
    "roc_auc = roc_auc_score(y_test, xgb.predict_proba(X_test), multi_class='ovr')\n",
    "print(f\"ROC-AUC Score: {roc_auc}\")\n",
    "\n",
    "print(f\"accuracy is: {accuracy}\")\n",
    "print(classification_report(y_test, y_pred))\n",
    "print(\"Confusion Matrix:\")\n",
    "print(conf_matrix)"
   ]
  },
  {
   "cell_type": "code",
   "execution_count": 21,
   "id": "1d9769cd-3263-40ac-b517-8063c83d6f4b",
   "metadata": {},
   "outputs": [
    {
     "ename": "ValueError",
     "evalue": "Input X contains NaN.\nLogisticRegression does not accept missing values encoded as NaN natively. For supervised learning, you might want to consider sklearn.ensemble.HistGradientBoostingClassifier and Regressor which accept missing values encoded as NaNs natively. Alternatively, it is possible to preprocess the data, for instance by using an imputer transformer in a pipeline or drop samples with missing values. See https://scikit-learn.org/stable/modules/impute.html You can find a list of all estimators that handle NaN values at the following page: https://scikit-learn.org/stable/modules/impute.html#estimators-that-handle-nan-values",
     "output_type": "error",
     "traceback": [
      "\u001b[1;31m---------------------------------------------------------------------------\u001b[0m",
      "\u001b[1;31mValueError\u001b[0m                                Traceback (most recent call last)",
      "Cell \u001b[1;32mIn[21], line 4\u001b[0m\n\u001b[0;32m      1\u001b[0m \u001b[38;5;66;03m# using logistic regression\u001b[39;00m\n\u001b[0;32m      2\u001b[0m \u001b[38;5;66;03m# Initialize and train logistic regression\u001b[39;00m\n\u001b[0;32m      3\u001b[0m lr \u001b[38;5;241m=\u001b[39m LogisticRegression(multi_class\u001b[38;5;241m=\u001b[39m\u001b[38;5;124m'\u001b[39m\u001b[38;5;124mmultinomial\u001b[39m\u001b[38;5;124m'\u001b[39m, solver\u001b[38;5;241m=\u001b[39m\u001b[38;5;124m'\u001b[39m\u001b[38;5;124mlbfgs\u001b[39m\u001b[38;5;124m'\u001b[39m, random_state\u001b[38;5;241m=\u001b[39m\u001b[38;5;241m42\u001b[39m)\n\u001b[1;32m----> 4\u001b[0m lr\u001b[38;5;241m.\u001b[39mfit(X_train, y_train)\n\u001b[0;32m      6\u001b[0m \u001b[38;5;66;03m# Make predictions\u001b[39;00m\n\u001b[0;32m      7\u001b[0m y_pred \u001b[38;5;241m=\u001b[39m lr\u001b[38;5;241m.\u001b[39mpredict(X_test)\n",
      "File \u001b[1;32m~\\anaconda3\\envs\\Personal\\Lib\\site-packages\\sklearn\\base.py:1389\u001b[0m, in \u001b[0;36m_fit_context.<locals>.decorator.<locals>.wrapper\u001b[1;34m(estimator, *args, **kwargs)\u001b[0m\n\u001b[0;32m   1382\u001b[0m     estimator\u001b[38;5;241m.\u001b[39m_validate_params()\n\u001b[0;32m   1384\u001b[0m \u001b[38;5;28;01mwith\u001b[39;00m config_context(\n\u001b[0;32m   1385\u001b[0m     skip_parameter_validation\u001b[38;5;241m=\u001b[39m(\n\u001b[0;32m   1386\u001b[0m         prefer_skip_nested_validation \u001b[38;5;129;01mor\u001b[39;00m global_skip_validation\n\u001b[0;32m   1387\u001b[0m     )\n\u001b[0;32m   1388\u001b[0m ):\n\u001b[1;32m-> 1389\u001b[0m     \u001b[38;5;28;01mreturn\u001b[39;00m fit_method(estimator, \u001b[38;5;241m*\u001b[39margs, \u001b[38;5;241m*\u001b[39m\u001b[38;5;241m*\u001b[39mkwargs)\n",
      "File \u001b[1;32m~\\anaconda3\\envs\\Personal\\Lib\\site-packages\\sklearn\\linear_model\\_logistic.py:1222\u001b[0m, in \u001b[0;36mLogisticRegression.fit\u001b[1;34m(self, X, y, sample_weight)\u001b[0m\n\u001b[0;32m   1219\u001b[0m \u001b[38;5;28;01melse\u001b[39;00m:\n\u001b[0;32m   1220\u001b[0m     _dtype \u001b[38;5;241m=\u001b[39m [np\u001b[38;5;241m.\u001b[39mfloat64, np\u001b[38;5;241m.\u001b[39mfloat32]\n\u001b[1;32m-> 1222\u001b[0m X, y \u001b[38;5;241m=\u001b[39m validate_data(\n\u001b[0;32m   1223\u001b[0m     \u001b[38;5;28mself\u001b[39m,\n\u001b[0;32m   1224\u001b[0m     X,\n\u001b[0;32m   1225\u001b[0m     y,\n\u001b[0;32m   1226\u001b[0m     accept_sparse\u001b[38;5;241m=\u001b[39m\u001b[38;5;124m\"\u001b[39m\u001b[38;5;124mcsr\u001b[39m\u001b[38;5;124m\"\u001b[39m,\n\u001b[0;32m   1227\u001b[0m     dtype\u001b[38;5;241m=\u001b[39m_dtype,\n\u001b[0;32m   1228\u001b[0m     order\u001b[38;5;241m=\u001b[39m\u001b[38;5;124m\"\u001b[39m\u001b[38;5;124mC\u001b[39m\u001b[38;5;124m\"\u001b[39m,\n\u001b[0;32m   1229\u001b[0m     accept_large_sparse\u001b[38;5;241m=\u001b[39msolver \u001b[38;5;129;01mnot\u001b[39;00m \u001b[38;5;129;01min\u001b[39;00m [\u001b[38;5;124m\"\u001b[39m\u001b[38;5;124mliblinear\u001b[39m\u001b[38;5;124m\"\u001b[39m, \u001b[38;5;124m\"\u001b[39m\u001b[38;5;124msag\u001b[39m\u001b[38;5;124m\"\u001b[39m, \u001b[38;5;124m\"\u001b[39m\u001b[38;5;124msaga\u001b[39m\u001b[38;5;124m\"\u001b[39m],\n\u001b[0;32m   1230\u001b[0m )\n\u001b[0;32m   1231\u001b[0m check_classification_targets(y)\n\u001b[0;32m   1232\u001b[0m \u001b[38;5;28mself\u001b[39m\u001b[38;5;241m.\u001b[39mclasses_ \u001b[38;5;241m=\u001b[39m np\u001b[38;5;241m.\u001b[39munique(y)\n",
      "File \u001b[1;32m~\\anaconda3\\envs\\Personal\\Lib\\site-packages\\sklearn\\utils\\validation.py:2961\u001b[0m, in \u001b[0;36mvalidate_data\u001b[1;34m(_estimator, X, y, reset, validate_separately, skip_check_array, **check_params)\u001b[0m\n\u001b[0;32m   2959\u001b[0m         y \u001b[38;5;241m=\u001b[39m check_array(y, input_name\u001b[38;5;241m=\u001b[39m\u001b[38;5;124m\"\u001b[39m\u001b[38;5;124my\u001b[39m\u001b[38;5;124m\"\u001b[39m, \u001b[38;5;241m*\u001b[39m\u001b[38;5;241m*\u001b[39mcheck_y_params)\n\u001b[0;32m   2960\u001b[0m     \u001b[38;5;28;01melse\u001b[39;00m:\n\u001b[1;32m-> 2961\u001b[0m         X, y \u001b[38;5;241m=\u001b[39m check_X_y(X, y, \u001b[38;5;241m*\u001b[39m\u001b[38;5;241m*\u001b[39mcheck_params)\n\u001b[0;32m   2962\u001b[0m     out \u001b[38;5;241m=\u001b[39m X, y\n\u001b[0;32m   2964\u001b[0m \u001b[38;5;28;01mif\u001b[39;00m \u001b[38;5;129;01mnot\u001b[39;00m no_val_X \u001b[38;5;129;01mand\u001b[39;00m check_params\u001b[38;5;241m.\u001b[39mget(\u001b[38;5;124m\"\u001b[39m\u001b[38;5;124mensure_2d\u001b[39m\u001b[38;5;124m\"\u001b[39m, \u001b[38;5;28;01mTrue\u001b[39;00m):\n",
      "File \u001b[1;32m~\\anaconda3\\envs\\Personal\\Lib\\site-packages\\sklearn\\utils\\validation.py:1370\u001b[0m, in \u001b[0;36mcheck_X_y\u001b[1;34m(X, y, accept_sparse, accept_large_sparse, dtype, order, copy, force_writeable, force_all_finite, ensure_all_finite, ensure_2d, allow_nd, multi_output, ensure_min_samples, ensure_min_features, y_numeric, estimator)\u001b[0m\n\u001b[0;32m   1364\u001b[0m     \u001b[38;5;28;01mraise\u001b[39;00m \u001b[38;5;167;01mValueError\u001b[39;00m(\n\u001b[0;32m   1365\u001b[0m         \u001b[38;5;124mf\u001b[39m\u001b[38;5;124m\"\u001b[39m\u001b[38;5;132;01m{\u001b[39;00mestimator_name\u001b[38;5;132;01m}\u001b[39;00m\u001b[38;5;124m requires y to be passed, but the target y is None\u001b[39m\u001b[38;5;124m\"\u001b[39m\n\u001b[0;32m   1366\u001b[0m     )\n\u001b[0;32m   1368\u001b[0m ensure_all_finite \u001b[38;5;241m=\u001b[39m _deprecate_force_all_finite(force_all_finite, ensure_all_finite)\n\u001b[1;32m-> 1370\u001b[0m X \u001b[38;5;241m=\u001b[39m check_array(\n\u001b[0;32m   1371\u001b[0m     X,\n\u001b[0;32m   1372\u001b[0m     accept_sparse\u001b[38;5;241m=\u001b[39maccept_sparse,\n\u001b[0;32m   1373\u001b[0m     accept_large_sparse\u001b[38;5;241m=\u001b[39maccept_large_sparse,\n\u001b[0;32m   1374\u001b[0m     dtype\u001b[38;5;241m=\u001b[39mdtype,\n\u001b[0;32m   1375\u001b[0m     order\u001b[38;5;241m=\u001b[39morder,\n\u001b[0;32m   1376\u001b[0m     copy\u001b[38;5;241m=\u001b[39mcopy,\n\u001b[0;32m   1377\u001b[0m     force_writeable\u001b[38;5;241m=\u001b[39mforce_writeable,\n\u001b[0;32m   1378\u001b[0m     ensure_all_finite\u001b[38;5;241m=\u001b[39mensure_all_finite,\n\u001b[0;32m   1379\u001b[0m     ensure_2d\u001b[38;5;241m=\u001b[39mensure_2d,\n\u001b[0;32m   1380\u001b[0m     allow_nd\u001b[38;5;241m=\u001b[39mallow_nd,\n\u001b[0;32m   1381\u001b[0m     ensure_min_samples\u001b[38;5;241m=\u001b[39mensure_min_samples,\n\u001b[0;32m   1382\u001b[0m     ensure_min_features\u001b[38;5;241m=\u001b[39mensure_min_features,\n\u001b[0;32m   1383\u001b[0m     estimator\u001b[38;5;241m=\u001b[39mestimator,\n\u001b[0;32m   1384\u001b[0m     input_name\u001b[38;5;241m=\u001b[39m\u001b[38;5;124m\"\u001b[39m\u001b[38;5;124mX\u001b[39m\u001b[38;5;124m\"\u001b[39m,\n\u001b[0;32m   1385\u001b[0m )\n\u001b[0;32m   1387\u001b[0m y \u001b[38;5;241m=\u001b[39m _check_y(y, multi_output\u001b[38;5;241m=\u001b[39mmulti_output, y_numeric\u001b[38;5;241m=\u001b[39my_numeric, estimator\u001b[38;5;241m=\u001b[39mestimator)\n\u001b[0;32m   1389\u001b[0m check_consistent_length(X, y)\n",
      "File \u001b[1;32m~\\anaconda3\\envs\\Personal\\Lib\\site-packages\\sklearn\\utils\\validation.py:1107\u001b[0m, in \u001b[0;36mcheck_array\u001b[1;34m(array, accept_sparse, accept_large_sparse, dtype, order, copy, force_writeable, force_all_finite, ensure_all_finite, ensure_non_negative, ensure_2d, allow_nd, ensure_min_samples, ensure_min_features, estimator, input_name)\u001b[0m\n\u001b[0;32m   1101\u001b[0m     \u001b[38;5;28;01mraise\u001b[39;00m \u001b[38;5;167;01mValueError\u001b[39;00m(\n\u001b[0;32m   1102\u001b[0m         \u001b[38;5;124m\"\u001b[39m\u001b[38;5;124mFound array with dim \u001b[39m\u001b[38;5;132;01m%d\u001b[39;00m\u001b[38;5;124m. \u001b[39m\u001b[38;5;132;01m%s\u001b[39;00m\u001b[38;5;124m expected <= 2.\u001b[39m\u001b[38;5;124m\"\u001b[39m\n\u001b[0;32m   1103\u001b[0m         \u001b[38;5;241m%\u001b[39m (array\u001b[38;5;241m.\u001b[39mndim, estimator_name)\n\u001b[0;32m   1104\u001b[0m     )\n\u001b[0;32m   1106\u001b[0m \u001b[38;5;28;01mif\u001b[39;00m ensure_all_finite:\n\u001b[1;32m-> 1107\u001b[0m     _assert_all_finite(\n\u001b[0;32m   1108\u001b[0m         array,\n\u001b[0;32m   1109\u001b[0m         input_name\u001b[38;5;241m=\u001b[39minput_name,\n\u001b[0;32m   1110\u001b[0m         estimator_name\u001b[38;5;241m=\u001b[39mestimator_name,\n\u001b[0;32m   1111\u001b[0m         allow_nan\u001b[38;5;241m=\u001b[39mensure_all_finite \u001b[38;5;241m==\u001b[39m \u001b[38;5;124m\"\u001b[39m\u001b[38;5;124mallow-nan\u001b[39m\u001b[38;5;124m\"\u001b[39m,\n\u001b[0;32m   1112\u001b[0m     )\n\u001b[0;32m   1114\u001b[0m \u001b[38;5;28;01mif\u001b[39;00m copy:\n\u001b[0;32m   1115\u001b[0m     \u001b[38;5;28;01mif\u001b[39;00m _is_numpy_namespace(xp):\n\u001b[0;32m   1116\u001b[0m         \u001b[38;5;66;03m# only make a copy if `array` and `array_orig` may share memory`\u001b[39;00m\n",
      "File \u001b[1;32m~\\anaconda3\\envs\\Personal\\Lib\\site-packages\\sklearn\\utils\\validation.py:120\u001b[0m, in \u001b[0;36m_assert_all_finite\u001b[1;34m(X, allow_nan, msg_dtype, estimator_name, input_name)\u001b[0m\n\u001b[0;32m    117\u001b[0m \u001b[38;5;28;01mif\u001b[39;00m first_pass_isfinite:\n\u001b[0;32m    118\u001b[0m     \u001b[38;5;28;01mreturn\u001b[39;00m\n\u001b[1;32m--> 120\u001b[0m _assert_all_finite_element_wise(\n\u001b[0;32m    121\u001b[0m     X,\n\u001b[0;32m    122\u001b[0m     xp\u001b[38;5;241m=\u001b[39mxp,\n\u001b[0;32m    123\u001b[0m     allow_nan\u001b[38;5;241m=\u001b[39mallow_nan,\n\u001b[0;32m    124\u001b[0m     msg_dtype\u001b[38;5;241m=\u001b[39mmsg_dtype,\n\u001b[0;32m    125\u001b[0m     estimator_name\u001b[38;5;241m=\u001b[39mestimator_name,\n\u001b[0;32m    126\u001b[0m     input_name\u001b[38;5;241m=\u001b[39minput_name,\n\u001b[0;32m    127\u001b[0m )\n",
      "File \u001b[1;32m~\\anaconda3\\envs\\Personal\\Lib\\site-packages\\sklearn\\utils\\validation.py:169\u001b[0m, in \u001b[0;36m_assert_all_finite_element_wise\u001b[1;34m(X, xp, allow_nan, msg_dtype, estimator_name, input_name)\u001b[0m\n\u001b[0;32m    152\u001b[0m \u001b[38;5;28;01mif\u001b[39;00m estimator_name \u001b[38;5;129;01mand\u001b[39;00m input_name \u001b[38;5;241m==\u001b[39m \u001b[38;5;124m\"\u001b[39m\u001b[38;5;124mX\u001b[39m\u001b[38;5;124m\"\u001b[39m \u001b[38;5;129;01mand\u001b[39;00m has_nan_error:\n\u001b[0;32m    153\u001b[0m     \u001b[38;5;66;03m# Improve the error message on how to handle missing values in\u001b[39;00m\n\u001b[0;32m    154\u001b[0m     \u001b[38;5;66;03m# scikit-learn.\u001b[39;00m\n\u001b[0;32m    155\u001b[0m     msg_err \u001b[38;5;241m+\u001b[39m\u001b[38;5;241m=\u001b[39m (\n\u001b[0;32m    156\u001b[0m         \u001b[38;5;124mf\u001b[39m\u001b[38;5;124m\"\u001b[39m\u001b[38;5;130;01m\\n\u001b[39;00m\u001b[38;5;132;01m{\u001b[39;00mestimator_name\u001b[38;5;132;01m}\u001b[39;00m\u001b[38;5;124m does not accept missing values\u001b[39m\u001b[38;5;124m\"\u001b[39m\n\u001b[0;32m    157\u001b[0m         \u001b[38;5;124m\"\u001b[39m\u001b[38;5;124m encoded as NaN natively. For supervised learning, you might want\u001b[39m\u001b[38;5;124m\"\u001b[39m\n\u001b[1;32m   (...)\u001b[0m\n\u001b[0;32m    167\u001b[0m         \u001b[38;5;124m\"\u001b[39m\u001b[38;5;124m#estimators-that-handle-nan-values\u001b[39m\u001b[38;5;124m\"\u001b[39m\n\u001b[0;32m    168\u001b[0m     )\n\u001b[1;32m--> 169\u001b[0m \u001b[38;5;28;01mraise\u001b[39;00m \u001b[38;5;167;01mValueError\u001b[39;00m(msg_err)\n",
      "\u001b[1;31mValueError\u001b[0m: Input X contains NaN.\nLogisticRegression does not accept missing values encoded as NaN natively. For supervised learning, you might want to consider sklearn.ensemble.HistGradientBoostingClassifier and Regressor which accept missing values encoded as NaNs natively. Alternatively, it is possible to preprocess the data, for instance by using an imputer transformer in a pipeline or drop samples with missing values. See https://scikit-learn.org/stable/modules/impute.html You can find a list of all estimators that handle NaN values at the following page: https://scikit-learn.org/stable/modules/impute.html#estimators-that-handle-nan-values"
     ]
    }
   ],
   "source": [
    "# using logistic regression\n",
    "# Initialize and train logistic regression\n",
    "lr = LogisticRegression(multi_class='multinomial', solver='lbfgs', random_state=42)\n",
    "lr.fit(X_train, y_train)\n",
    "\n",
    "# Make predictions\n",
    "y_pred = lr.predict(X_test)\n",
    "\n",
    "# Evaluate the model\n",
    "accuracy = accuracy_score(y_test, y_pred)\n",
    "conf_matrix = confusion_matrix(y_test, y_pred)\n",
    "class_report = classification_report(y_test, y_pred)\n",
    "\n",
    "print(f\"Accuracy: {accuracy}\")\n",
    "print(\"Confusion Matrix:\")\n",
    "print(conf_matrix)\n",
    "print(\"Classification Report:\")\n",
    "print(class_report)"
   ]
  },
  {
   "cell_type": "code",
   "execution_count": null,
   "id": "a82cf1f5-1a40-4bfa-a71f-41c6711b8652",
   "metadata": {},
   "outputs": [],
   "source": []
  },
  {
   "cell_type": "code",
   "execution_count": null,
   "id": "b6610c6b-3ab0-4435-be1e-c75598ff7bdb",
   "metadata": {},
   "outputs": [],
   "source": []
  },
  {
   "cell_type": "code",
   "execution_count": null,
   "id": "0d66de5b-167f-4ff1-bdbe-1d0ef4f11be6",
   "metadata": {},
   "outputs": [],
   "source": []
  },
  {
   "cell_type": "code",
   "execution_count": null,
   "id": "8cf6d5e4-6d09-4a2f-8c33-0ff0efbcc319",
   "metadata": {},
   "outputs": [],
   "source": []
  },
  {
   "cell_type": "code",
   "execution_count": null,
   "id": "123badd0-08e1-449d-bf47-d787d9e210ed",
   "metadata": {},
   "outputs": [],
   "source": []
  },
  {
   "cell_type": "code",
   "execution_count": null,
   "id": "88734be8-7335-4f82-b061-8942c45ed044",
   "metadata": {},
   "outputs": [],
   "source": []
  },
  {
   "cell_type": "markdown",
   "id": "55f30faf-5091-4953-b98e-e059264fec76",
   "metadata": {},
   "source": [
    "# ROUGH WORK"
   ]
  },
  {
   "cell_type": "code",
   "execution_count": 36,
   "id": "154fa5d1-bd22-4d36-af85-83a08befb49b",
   "metadata": {},
   "outputs": [
    {
     "data": {
      "image/png": "[encoded data removed]",
      "text/plain": [
       "<Figure size 800x500 with 1 Axes>"
      ]
     },
     "metadata": {},
     "output_type": "display_data"
    }
   ],
   "source": [
    "# plot the 'direction' column\n",
    "plt.figure(figsize=(8, 5))\n",
    "plt.hist(apple_stock['Direction'], bins=3, edgecolor='black', color='skyblue')\n",
    "plt.title('Distribution of Stock Direction', fontsize=16)\n",
    "plt.xlabel('Direction', fontsize=12)\n",
    "plt.ylabel('Frequency', fontsize=12)\n",
    "plt.xticks(fontsize=10)\n",
    "plt.yticks(fontsize=10)\n",
    "plt.grid(axis='y', linestyle='--', alpha=0.7)\n",
    "plt.show()\n"
   ]
  },
  {
   "cell_type": "code",
   "execution_count": 48,
   "id": "12123c7a-aa0b-4d55-930e-4bdb69c051d5",
   "metadata": {},
   "outputs": [
    {
     "data": {
      "image/png": "[encoded data removed]",
      "text/plain": [
       "<Figure size 1200x600 with 2 Axes>"
      ]
     },
     "metadata": {},
     "output_type": "display_data"
    }
   ],
   "source": [
    "import pandas as pd\n",
    "import mplfinance as mpf\n",
    "\n",
    "# Ensure 'date' column is in datetime format\n",
    "apple_stock['date'] = pd.to_datetime(apple_stock['date'])\n",
    "\n",
    "# Prepare data for candlestick chart\n",
    "# Ensure columns like 'open', 'high', 'low', and 'close' are present in the DataFrame\n",
    "ohlc_data = apple_stock[['date', 'open', 'high', 'low', 'close']].set_index('date')\n",
    "\n",
    "# Plot candlestick chart\n",
    "mpf.plot(\n",
    "    ohlc_data,\n",
    "    type='candle',\n",
    "    style='charles',\n",
    "    title='Apple Stock Market Trends',\n",
    "    ylabel='Price ($)',\n",
    "    volume=False,\n",
    "    figsize=(12, 6)\n",
    ")\n"
   ]
  },
  {
   "cell_type": "code",
   "execution_count": null,
   "id": "6daef9cb-6939-484d-8877-a155b7d162d2",
   "metadata": {},
   "outputs": [],
   "source": []
  },
  {
   "cell_type": "code",
   "execution_count": null,
   "id": "6e22cf19-b229-400f-996e-232885d76a63",
   "metadata": {},
   "outputs": [],
   "source": []
  },
  {
   "cell_type": "code",
   "execution_count": null,
   "id": "06aa928e-75e2-4894-9861-c3b348fece62",
   "metadata": {},
   "outputs": [],
   "source": []
  },
  {
   "cell_type": "code",
   "execution_count": null,
   "id": "9f169768-14fa-4c80-af44-0315ff2fdacb",
   "metadata": {},
   "outputs": [],
   "source": []
  },
  {
   "cell_type": "code",
   "execution_count": null,
   "id": "55e4fbd6-0b49-470f-ae95-7a3fb7ec4d89",
   "metadata": {},
   "outputs": [],
   "source": []
  },
  {
   "cell_type": "code",
   "execution_count": null,
   "id": "7e84a13d-b745-4e54-b38f-94dce8dcb223",
   "metadata": {},
   "outputs": [],
   "source": []
  },
  {
   "cell_type": "code",
   "execution_count": null,
   "id": "faefdef9-069b-44c9-81d9-eabaf09026c8",
   "metadata": {},
   "outputs": [],
   "source": []
  },
  {
   "cell_type": "code",
   "execution_count": 30,
   "id": "bd34fbb4-6fb3-4f1e-9195-4c272051ec56",
   "metadata": {},
   "outputs": [],
   "source": [
    "#This is a function that downcast the integer columns\n",
    "def downcast_df_int_columns(df):\n",
    "    list_of_columns = list(df.select_dtypes(include=[\"int32\", \"int64\"]).columns)\n",
    "        \n",
    "    if len(list_of_columns)>=1:\n",
    "        max_string_length = max([len(col) for col in list_of_columns]) # finds max string length for better status printing\n",
    "        print(\"downcasting integers for:\", list_of_columns, \"\\n\")\n",
    "        \n",
    "        for col in list_of_columns:\n",
    "            print(\"reduced memory usage for:  \", col.ljust(max_string_length+2)[:max_string_length+2],\n",
    "                  \"from\", str(round(df[col].memory_usage(deep=True)*1e-6,2)).rjust(8), \"to\", end=\" \")\n",
    "            df[col] = pd.to_numeric(df[col], downcast=\"integer\")\n",
    "            print(str(round(df[col].memory_usage(deep=True)*1e-6,2)).rjust(8))\n",
    "    else:\n",
    "        print(\"no columns to downcast\")\n",
    "    \n",
    "    gc.collect()\n",
    "    \n",
    "    print(\"done\")\n",
    "    \n",
    "    \n",
    "#This is a function that downcast the float columns,\n",
    "#if you have too many columns to adjust and do not want to see to many messages proceesing, you could comment our the print() columns\n",
    "def downcast_df_float_columns(df):\n",
    "    list_of_columns = list(df.select_dtypes(include=[\"float64\"]).columns)\n",
    "        \n",
    "    if len(list_of_columns)>=1:\n",
    "        max_string_length = max([len(col) for col in list_of_columns]) # finds max string length for better status printing\n",
    "        print(\"downcasting float for:\", list_of_columns, \"\\n\")\n",
    "        \n",
    "        for col in list_of_columns:\n",
    "            print(\"reduced memory usage for:  \", col.ljust(max_string_length+2)[:max_string_length+2],\n",
    "                  \"from\", str(round(df[col].memory_usage(deep=True)*1e-6,2)).rjust(8), \"to\", end=\" \")\n",
    "            df[col] = pd.to_numeric(df[col], downcast=\"float\")\n",
    "            print(str(round(df[col].memory_usage(deep=True)*1e-6,2)).rjust(8))\n",
    "    else:\n",
    "        print(\"no columns to downcast\")\n",
    "    \n",
    "    gc.collect()\n",
    "    print(\"done\")\n",
    "    \n",
    "\n",
    "warnings.filterwarnings(\"ignore\")"
   ]
  },
  {
   "cell_type": "code",
   "execution_count": 31,
   "id": "c05197a8-7da2-4f04-bfcd-51ccef5b1501",
   "metadata": {},
   "outputs": [
    {
     "name": "stdout",
     "output_type": "stream",
     "text": [
      " \n",
      "\t\t\t\t\t\t\tReducing the size of integer columns by converting them from int64 to int32\n",
      "\n",
      "\n",
      "\n",
      "downcasting integers for: ['volume', 'year', 'month', 'day'] \n",
      "\n",
      "reduced memory usage for:   volume   from     0.01 to      0.0\n",
      "reduced memory usage for:   year     from      0.0 to      0.0\n",
      "reduced memory usage for:   month    from      0.0 to      0.0\n",
      "reduced memory usage for:   day      from      0.0 to      0.0\n",
      "done\n"
     ]
    }
   ],
   "source": [
    "print(' \\n\\t\\t\\t\\t\\t\\t\\tReducing the size of integer columns by converting them from int64 to int32\\n\\n\\n')\n",
    "downcast_df_int_columns(apple_stock)"
   ]
  },
  {
   "cell_type": "code",
   "execution_count": null,
   "id": "f1199f46-0f0d-408d-a378-271bcb96ba62",
   "metadata": {},
   "outputs": [],
   "source": []
  },
  {
   "cell_type": "code",
   "execution_count": null,
   "id": "2475191c-ef5a-4773-91b9-5f9479d2045f",
   "metadata": {},
   "outputs": [],
   "source": []
  },
  {
   "cell_type": "code",
   "execution_count": null,
   "id": "52f07bc5-688d-4758-9511-6f8d0218eb3a",
   "metadata": {},
   "outputs": [],
   "source": []
  },
  {
   "cell_type": "code",
   "execution_count": null,
   "id": "cb5c1235-9f24-4302-9fca-3706f591e028",
   "metadata": {},
   "outputs": [],
   "source": []
  },
  {
   "cell_type": "code",
   "execution_count": null,
   "id": "87d2d51f-f374-41b5-b8e2-7e1a04ede060",
   "metadata": {},
   "outputs": [],
   "source": []
  },
  {
   "cell_type": "code",
   "execution_count": null,
   "id": "f751a8ac-6811-4d31-9d31-dae07e794715",
   "metadata": {},
   "outputs": [],
   "source": []
  },
  {
   "cell_type": "code",
   "execution_count": null,
   "id": "b07bcf60-82b2-4f40-80c5-12786f863238",
   "metadata": {},
   "outputs": [],
   "source": []
  },
  {
   "cell_type": "code",
   "execution_count": null,
   "id": "130882b7-caab-4a44-be2c-303e0caa1600",
   "metadata": {},
   "outputs": [],
   "source": []
  },
  {
   "cell_type": "code",
   "execution_count": null,
   "id": "5b91f069-6f2a-4396-b4b4-e165853d2990",
   "metadata": {},
   "outputs": [],
   "source": []
  },
  {
   "cell_type": "code",
   "execution_count": null,
   "id": "9d55e176-cc26-4804-9b78-bac0de3c0973",
   "metadata": {},
   "outputs": [],
   "source": []
  }
 ],
 "metadata": {
  "kernelspec": {
   "display_name": "Python 3 (ipykernel)",
   "language": "python",
   "name": "python3"
  },
  "language_info": {
   "codemirror_mode": {
    "name": "ipython",
    "version": 3
   },
   "file_extension": ".py",
   "mimetype": "text/x-python",
   "name": "python",
   "nbconvert_exporter": "python",
   "pygments_lexer": "ipython3",
   "version": "3.12.8"
  }
 },
 "nbformat": 4,
 "nbformat_minor": 5
}
