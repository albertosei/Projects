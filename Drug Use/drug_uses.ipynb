{
 "cells": [
  {
   "cell_type": "code",
   "execution_count": 1,
   "id": "faba02e2-9ee9-40fc-8e5e-338e322fe20f",
   "metadata": {},
   "outputs": [],
   "source": [
    "#from helper_functions import get_llm_response, print_llm_response, display_table\n",
    "from IPython.display import Markdown, display, HTML\n",
    "import csv\n",
    "import numpy as np\n",
    "import pandas as pd\n",
    "import seaborn as sns\n",
    "import matplotlib.pyplot as plt\n",
    "from sklearn.model_selection import train_test_split\n",
    "from sklearn.linear_model import LinearRegression, LogisticRegression\n",
    "from sklearn.metrics import roc_auc_score\n",
    "from xgboost import XGBClassifier\n",
    "from sklearn.ensemble import RandomForestClassifier\n",
    "from sklearn.preprocessing import MinMaxScaler, LabelEncoder, StandardScaler, OrdinalEncoder\n",
    "from sklearn.metrics import accuracy_score, confusion_matrix, classification_report\n",
    "from sklearn.impute import SimpleImputer"
   ]
  },
  {
   "cell_type": "markdown",
   "id": "f1e5b6e3-0261-4842-9d16-c7eb336b7e0d",
   "metadata": {},
   "source": [
    "# this notebook is simply to check if a student uses drugs based on whether their parents used or not"
   ]
  },
  {
   "cell_type": "code",
   "execution_count": 2,
   "id": "b3a8aa09-5909-4df6-90a2-b62b34b98084",
   "metadata": {},
   "outputs": [],
   "source": [
    "# account \n",
    "drug_use = pd.read_csv(\"drug_use.csv\")"
   ]
  },
  {
   "cell_type": "code",
   "execution_count": 3,
   "id": "53d6f86a-c2ec-4e58-a138-c71184ec1183",
   "metadata": {},
   "outputs": [
    {
     "data": {
      "text/plain": [
       "student\n",
       "not     226\n",
       "uses    219\n",
       "Name: count, dtype: int64"
      ]
     },
     "execution_count": 3,
     "metadata": {},
     "output_type": "execute_result"
    }
   ],
   "source": [
    "drug_use['student'].value_counts()"
   ]
  },
  {
   "cell_type": "code",
   "execution_count": 4,
   "id": "2fcc5c28-1230-4fb0-8fa0-ee1fc3ba6504",
   "metadata": {},
   "outputs": [],
   "source": [
    "# a function to perform eda on our dataset\n",
    "def perform_eda(data, target_column=None, num_bins=20):\n",
    "    \"\"\"\n",
    "    Performs exploratory data analysis (EDA) on a dataset.\n",
    "\n",
    "    Args:\n",
    "        data (pd.DataFrame): The dataset to analyze.\n",
    "        target_column (str, optional): Name of the target column for analysis. Defaults to None.\n",
    "        num_bins (int, optional): Number of bins for histograms. Defaults to 20.\n",
    "\n",
    "    Returns:\n",
    "        None: Displays EDA results including statistics, distributions, and visualizations.\n",
    "    \"\"\"\n",
    "    print(\"===== EDA Summary =====\\n\")\n",
    "    \n",
    "    # 1. Basic Information\n",
    "    print(\"1. Basic Information:\")\n",
    "    print(f\"Shape of dataset: {data.shape}\")\n",
    "    print(\"\\nData Types:\\n\", data.dtypes)\n",
    "    print(\"\\nSample Data:\\n\", data.head(), \"\\n\")\n",
    "\n",
    "    # 2. Check for Missing Values\n",
    "    print(\"2. Missing Values:\")\n",
    "    missing_values = data.isnull().sum()\n",
    "    if missing_values.any():\n",
    "        print(missing_values[missing_values > 0], \"\\n\")\n",
    "    else:\n",
    "        print(\"No missing values detected.\\n\")\n",
    "    \n",
    "    # 3. Summary Statistics\n",
    "    print(\"3. Summary Statistics:\")\n",
    "    print(data.describe(include='all'), \"\\n\")\n",
    "\n",
    "    # 4. Target Column Analysis\n",
    "    if target_column and target_column in data.columns:\n",
    "        print(f\"4. Target Column Analysis: {target_column}\")\n",
    "        if data[target_column].dtype == 'object':\n",
    "            # If the target column is categorical\n",
    "            print(\"\\nValue Counts:\\n\", data[target_column].value_counts(), \"\\n\")\n",
    "            try:\n",
    "                plt.figure(figsize=(8, 4))\n",
    "                sns.countplot(y=target_column, data=data, order=data[target_column].value_counts().index)\n",
    "                plt.title(f'Distribution of Target Column: {target_column}')\n",
    "                plt.tight_layout()  # Adjust layout to prevent overlap\n",
    "                plt.show()\n",
    "            except Exception as e:\n",
    "                print(f\"Error plotting target column: {e}\")\n",
    "        elif data[target_column].dtype in ['int64', 'float64']:\n",
    "            # If the target column is numeric (int64 or float64)\n",
    "            try:\n",
    "                sns.histplot(data[target_column], kde=True, bins=num_bins)\n",
    "                plt.title(f'Distribution of Target Column: {target_column}')\n",
    "                plt.tight_layout()\n",
    "                plt.show()\n",
    "            except Exception as e:\n",
    "                print(f\"Error plotting target column: {e}\")\n",
    "    else:\n",
    "        print(\"No target column specified or invalid target column.\")\n",
    "\n",
    "    # 5. Visualizations for Numeric Features\n",
    "    print(\"5. Numeric Feature Distributions:\")\n",
    "    numeric_columns = data.select_dtypes(include=['float64', 'int64']).columns\n",
    "    if len(numeric_columns) > 0:\n",
    "        try:\n",
    "            data[numeric_columns].hist(figsize=(12, 8), bins=num_bins)\n",
    "            plt.suptitle(\"Numeric Feature Distributions\", fontsize=16)\n",
    "            plt.tight_layout()\n",
    "            plt.show()\n",
    "        except Exception as e:\n",
    "            print(f\"Error plotting numeric distributions: {e}\")\n",
    "    else:\n",
    "        print(\"No numeric column found to plot\")\n",
    "\n",
    "    # 6. Correlation Heatmap\n",
    "    print(\"6. Correlation Analysis:\")\n",
    "    if len(numeric_columns) > 0:\n",
    "        try:\n",
    "            correlation_matrix = data[numeric_columns].corr()\n",
    "            sns.heatmap(correlation_matrix, annot=True, cmap='coolwarm', fmt=\".2f\")\n",
    "            plt.title(\"Correlation Heatmap\")\n",
    "            plt.tight_layout()\n",
    "            plt.show()\n",
    "        except Exception as e:\n",
    "            print(f\"Error plotting heatmap: {e}\")\n",
    "    else:\n",
    "        print(\"No numeric column found to perform correlation\")\n",
    "\n",
    "    # 7. Categorical Feature Analysis\n",
    "    print(\"7. Categorical Features:\")\n",
    "    categorical_columns = data.select_dtypes(include=['object', 'category']).columns\n",
    "    if len(categorical_columns) > 0:\n",
    "        for column in categorical_columns:\n",
    "            try:\n",
    "                print(f\"\\nValue Counts for {column}:\\n\", data[column].value_counts())\n",
    "                plt.figure(figsize=(8, 4))\n",
    "                sns.countplot(y=column, data=data, order=data[column].value_counts().index)\n",
    "                plt.title(f\"Distribution of {column}\")\n",
    "                plt.tight_layout()\n",
    "                plt.show()\n",
    "            except Exception as e:\n",
    "                print(f\"Error plotting {column}: {e}\")\n",
    "    else:\n",
    "        print(\"No categorical features found.\")\n",
    "\n",
    "    print(\"\\n===== EDA Complete =====\")\n"
   ]
  },
  {
   "cell_type": "code",
   "execution_count": 5,
   "id": "94e5ef98-7daf-45a9-9a0c-41eb1dbb451e",
   "metadata": {
    "scrolled": true
   },
   "outputs": [
    {
     "name": "stdout",
     "output_type": "stream",
     "text": [
      "===== EDA Summary =====\n",
      "\n",
      "1. Basic Information:\n",
      "Shape of dataset: (445, 2)\n",
      "\n",
      "Data Types:\n",
      " student    object\n",
      "parents    object\n",
      "dtype: object\n",
      "\n",
      "Sample Data:\n",
      "   student parents\n",
      "0    uses    used\n",
      "1    uses    used\n",
      "2    uses    used\n",
      "3    uses    used\n",
      "4    uses    used \n",
      "\n",
      "2. Missing Values:\n",
      "No missing values detected.\n",
      "\n",
      "3. Summary Statistics:\n",
      "       student parents\n",
      "count      445     445\n",
      "unique       2       2\n",
      "top        not     not\n",
      "freq       226     235 \n",
      "\n",
      "No target column specified or invalid target column.\n",
      "5. Numeric Feature Distributions:\n",
      "No numeric column found to plot\n",
      "6. Correlation Analysis:\n",
      "No numeric column found to perform correlation\n",
      "7. Categorical Features:\n",
      "\n",
      "Value Counts for student:\n",
      " student\n",
      "not     226\n",
      "uses    219\n",
      "Name: count, dtype: int64\n"
     ]
    },
    {
     "data": {
      "image/png": "[encoded data removed]",
      "text/plain": [
       "<Figure size 800x400 with 1 Axes>"
      ]
     },
     "metadata": {},
     "output_type": "display_data"
    },
    {
     "name": "stdout",
     "output_type": "stream",
     "text": [
      "\n",
      "Value Counts for parents:\n",
      " parents\n",
      "not     235\n",
      "used    210\n",
      "Name: count, dtype: int64\n"
     ]
    },
    {
     "data": {
      "image/png": "[encoded data removed]",
      "text/plain": [
       "<Figure size 800x400 with 1 Axes>"
      ]
     },
     "metadata": {},
     "output_type": "display_data"
    },
    {
     "name": "stdout",
     "output_type": "stream",
     "text": [
      "\n",
      "===== EDA Complete =====\n"
     ]
    }
   ],
   "source": [
    "# call the function\n",
    "perform_eda(drug_use)"
   ]
  },
  {
   "cell_type": "code",
   "execution_count": 6,
   "id": "dc19522e-789e-49f0-be8d-2aad65c8deed",
   "metadata": {},
   "outputs": [
    {
     "data": {
      "text/html": [
       "<div>\n",
       "<style scoped>\n",
       "    .dataframe tbody tr th:only-of-type {\n",
       "        vertical-align: middle;\n",
       "    }\n",
       "\n",
       "    .dataframe tbody tr th {\n",
       "        vertical-align: top;\n",
       "    }\n",
       "\n",
       "    .dataframe thead th {\n",
       "        text-align: right;\n",
       "    }\n",
       "</style>\n",
       "<table border=\"1\" class=\"dataframe\">\n",
       "  <thead>\n",
       "    <tr style=\"text-align: right;\">\n",
       "      <th></th>\n",
       "      <th>student</th>\n",
       "      <th>parents</th>\n",
       "    </tr>\n",
       "  </thead>\n",
       "  <tbody>\n",
       "    <tr>\n",
       "      <th>0</th>\n",
       "      <td>uses</td>\n",
       "      <td>used</td>\n",
       "    </tr>\n",
       "    <tr>\n",
       "      <th>1</th>\n",
       "      <td>uses</td>\n",
       "      <td>used</td>\n",
       "    </tr>\n",
       "    <tr>\n",
       "      <th>2</th>\n",
       "      <td>uses</td>\n",
       "      <td>used</td>\n",
       "    </tr>\n",
       "    <tr>\n",
       "      <th>3</th>\n",
       "      <td>uses</td>\n",
       "      <td>used</td>\n",
       "    </tr>\n",
       "    <tr>\n",
       "      <th>4</th>\n",
       "      <td>uses</td>\n",
       "      <td>used</td>\n",
       "    </tr>\n",
       "  </tbody>\n",
       "</table>\n",
       "</div>"
      ],
      "text/plain": [
       "  student parents\n",
       "0    uses    used\n",
       "1    uses    used\n",
       "2    uses    used\n",
       "3    uses    used\n",
       "4    uses    used"
      ]
     },
     "execution_count": 6,
     "metadata": {},
     "output_type": "execute_result"
    }
   ],
   "source": [
    "drug_use.head()"
   ]
  },
  {
   "cell_type": "code",
   "execution_count": 7,
   "id": "3e034133-6d01-41a7-9084-e64d8c304f7f",
   "metadata": {},
   "outputs": [],
   "source": [
    "# divide into target and predictor variables\n",
    "X = drug_use['parents']\n",
    "y = drug_use['student']"
   ]
  },
  {
   "cell_type": "code",
   "execution_count": 8,
   "id": "fe40aeeb-5973-48ac-90ac-15b8f73dd491",
   "metadata": {},
   "outputs": [],
   "source": [
    "# use label encoder to encode the variables\n",
    "label = LabelEncoder()\n",
    "X = label.fit_transform(X)\n",
    "y = label.fit_transform(y)"
   ]
  },
  {
   "cell_type": "code",
   "execution_count": 9,
   "id": "89cf6013-1e40-4e9c-9c1a-e24c73f1ed1e",
   "metadata": {},
   "outputs": [
    {
     "name": "stdout",
     "output_type": "stream",
     "text": [
      "{'not': np.int64(0), 'uses': np.int64(1)}\n"
     ]
    }
   ],
   "source": [
    "# Assuming label is the LabelEncoder instance\n",
    "classes = label.classes_\n",
    "encoded_classes = label.transform(label.classes_)\n",
    "\n",
    "# Create a dictionary to map original classes to encoded values\n",
    "class_mapping = dict(zip(classes, encoded_classes))\n",
    "\n",
    "print(class_mapping)\n"
   ]
  },
  {
   "cell_type": "code",
   "execution_count": 10,
   "id": "237babf6-5fcb-4c60-bf41-1d00d85baa0f",
   "metadata": {},
   "outputs": [],
   "source": [
    "# train test split\n",
    "X_train, X_test, y_train, y_test = train_test_split(X, y, test_size=0.33, random_state=42)"
   ]
  },
  {
   "cell_type": "code",
   "execution_count": 11,
   "id": "7071b3f3-914d-447a-8b51-c901949693ed",
   "metadata": {},
   "outputs": [],
   "source": [
    "# reshape data \n",
    "X_train = X_train.reshape(-1,1)\n",
    "X_test = X_test.reshape(-1,1)"
   ]
  },
  {
   "cell_type": "code",
   "execution_count": 15,
   "id": "dba77305-b8bc-41f8-9fce-6b3be4680097",
   "metadata": {},
   "outputs": [
    {
     "name": "stdout",
     "output_type": "stream",
     "text": [
      "Accuracy: 0.673469387755102\n",
      "Confusion Matrix:\n",
      "[[47 25]\n",
      " [23 52]]\n",
      "Classification Report:\n",
      "              precision    recall  f1-score   support\n",
      "\n",
      "           0       0.67      0.65      0.66        72\n",
      "           1       0.68      0.69      0.68        75\n",
      "\n",
      "    accuracy                           0.67       147\n",
      "   macro avg       0.67      0.67      0.67       147\n",
      "weighted avg       0.67      0.67      0.67       147\n",
      "\n"
     ]
    },
    {
     "name": "stderr",
     "output_type": "stream",
     "text": [
      "C:\\Users\\alber\\anaconda3\\envs\\Personal\\Lib\\site-packages\\sklearn\\linear_model\\_logistic.py:1237: FutureWarning: 'multi_class' was deprecated in version 1.5 and will be removed in 1.7. From then on, binary problems will be fit as proper binary  logistic regression models (as if multi_class='ovr' were set). Leave it to its default value to avoid this warning.\n",
      "  warnings.warn(\n"
     ]
    }
   ],
   "source": [
    "# using logistic regression\n",
    "lr = LogisticRegression(multi_class='multinomial', solver='lbfgs', random_state=42)\n",
    "lr.fit(X_train, y_train)\n",
    "\n",
    "# Make predictions\n",
    "y_pred = lr.predict(X_test)\n",
    "\n",
    "# Evaluate the model\n",
    "accuracy = accuracy_score(y_test, y_pred)\n",
    "conf_matrix = confusion_matrix(y_test, y_pred)\n",
    "class_report = classification_report(y_test, y_pred)\n",
    "\n",
    "print(f\"Accuracy: {accuracy}\")\n",
    "print(\"Confusion Matrix:\")\n",
    "print(conf_matrix)\n",
    "print(\"Classification Report:\")\n",
    "print(class_report)"
   ]
  },
  {
   "cell_type": "code",
   "execution_count": 12,
   "id": "08eca9b7-81ea-4c9c-95f9-be84af39f429",
   "metadata": {},
   "outputs": [
    {
     "name": "stdout",
     "output_type": "stream",
     "text": [
      "Accuracy: 0.673469387755102\n",
      "Confusion Matrix:\n",
      "[[47 25]\n",
      " [23 52]]\n",
      "Classification Report:\n",
      "              precision    recall  f1-score   support\n",
      "\n",
      "           0       0.67      0.65      0.66        72\n",
      "           1       0.68      0.69      0.68        75\n",
      "\n",
      "    accuracy                           0.67       147\n",
      "   macro avg       0.67      0.67      0.67       147\n",
      "weighted avg       0.67      0.67      0.67       147\n",
      "\n"
     ]
    }
   ],
   "source": [
    "# use a Random forest model\n",
    "rf_clf = RandomForestClassifier(n_estimators=100, random_state=42)\n",
    "rf_clf.fit(X_train, y_train)\n",
    "\n",
    "# Make predictions\n",
    "y_pred1 = rf_clf.predict(X_test)\n",
    "\n",
    "# Evaluate the model\n",
    "accuracy1 = accuracy_score(y_test, y_pred1)\n",
    "conf_matrix1 = confusion_matrix(y_test, y_pred1)\n",
    "class_report1 = classification_report(y_test, y_pred1)\n",
    "\n",
    "print(f\"Accuracy: {accuracy1}\")\n",
    "print(\"Confusion Matrix:\")\n",
    "print(conf_matrix1)\n",
    "print(\"Classification Report:\")\n",
    "print(class_report1)\n"
   ]
  },
  {
   "cell_type": "code",
   "execution_count": 13,
   "id": "687b0f51-f644-441b-8e5c-0226ea7ac63b",
   "metadata": {},
   "outputs": [
    {
     "name": "stdout",
     "output_type": "stream",
     "text": [
      "Accuracy: 0.673469387755102\n",
      "Confusion Matrix:\n",
      "[[47 25]\n",
      " [23 52]]\n",
      "Classification Report:\n",
      "              precision    recall  f1-score   support\n",
      "\n",
      "           0       0.67      0.65      0.66        72\n",
      "           1       0.68      0.69      0.68        75\n",
      "\n",
      "    accuracy                           0.67       147\n",
      "   macro avg       0.67      0.67      0.67       147\n",
      "weighted avg       0.67      0.67      0.67       147\n",
      "\n"
     ]
    },
    {
     "name": "stderr",
     "output_type": "stream",
     "text": [
      "C:\\Users\\alber\\anaconda3\\envs\\Personal\\Lib\\site-packages\\xgboost\\core.py:158: UserWarning: [18:29:00] WARNING: C:\\buildkite-agent\\builds\\buildkite-windows-cpu-autoscaling-group-i-0c55ff5f71b100e98-1\\xgboost\\xgboost-ci-windows\\src\\learner.cc:740: \n",
      "Parameters: { \"use_label_encoder\" } are not used.\n",
      "\n",
      "  warnings.warn(smsg, UserWarning)\n"
     ]
    }
   ],
   "source": [
    "# using the xg boost\n",
    "xgb_clf = XGBClassifier(random_state=42, use_label_encoder=False)\n",
    "xgb_clf.fit(X_train, y_train)\n",
    "\n",
    "y_pred2 = xgb_clf.predict(X_test)\n",
    "\n",
    "accuracy2 = accuracy_score(y_test, y_pred2)\n",
    "conf_matrix2 = confusion_matrix(y_test, y_pred2)\n",
    "class_report2 = classification_report(y_test, y_pred2)\n",
    "\n",
    "print(f\"Accuracy: {accuracy2}\")\n",
    "print(\"Confusion Matrix:\")\n",
    "print(conf_matrix2)\n",
    "print(\"Classification Report:\")\n",
    "print(class_report2)"
   ]
  },
  {
   "cell_type": "code",
   "execution_count": 16,
   "id": "8800c081-89b1-4c2f-840a-1abd91db56fb",
   "metadata": {},
   "outputs": [
    {
     "name": "stdout",
     "output_type": "stream",
     "text": [
      "F1 Score (Logistic Regression): 0.6733181041134023\n",
      "F1 Score (Random Forest): 0.6733181041134023\n",
      "F1 Score (XGBoost): 0.6733181041134023\n"
     ]
    }
   ],
   "source": [
    "from sklearn.metrics import f1_score\n",
    "\n",
    "# Calculate F1 scores for each model\n",
    "f1_lr = f1_score(y_test, y_pred, average='weighted')  # Logistic Regression\n",
    "f1_rf = f1_score(y_test, y_pred1, average='weighted')  # Random Forest\n",
    "f1_xgb = f1_score(y_test, y_pred2, average='weighted')  # XGBoost\n",
    "\n",
    "# Print F1 scores\n",
    "print(f\"F1 Score (Logistic Regression): {f1_lr}\")\n",
    "print(f\"F1 Score (Random Forest): {f1_rf}\")\n",
    "print(f\"F1 Score (XGBoost): {f1_xgb}\")\n"
   ]
  },
  {
   "cell_type": "code",
   "execution_count": null,
   "id": "2a095a80-1e5d-4592-a0cc-9a1c61986e90",
   "metadata": {},
   "outputs": [],
   "source": []
  },
  {
   "cell_type": "code",
   "execution_count": null,
   "id": "5d59ad80-f884-43ae-bd8c-2bc0e1cd1116",
   "metadata": {},
   "outputs": [],
   "source": []
  },
  {
   "cell_type": "code",
   "execution_count": null,
   "id": "1112fe42-9e14-4bf2-bea5-246a1404a70e",
   "metadata": {},
   "outputs": [],
   "source": []
  },
  {
   "cell_type": "code",
   "execution_count": null,
   "id": "9bb0797b-304f-414b-aafd-504ce0c349ad",
   "metadata": {},
   "outputs": [],
   "source": []
  },
  {
   "cell_type": "code",
   "execution_count": null,
   "id": "a1ac6696-f820-4d08-a1e0-d1fee0bed606",
   "metadata": {},
   "outputs": [],
   "source": []
  },
  {
   "cell_type": "code",
   "execution_count": null,
   "id": "6b887513-555f-43c6-ad5d-f009d05cedcf",
   "metadata": {},
   "outputs": [],
   "source": []
  }
 ],
 "metadata": {
  "kernelspec": {
   "display_name": "Python 3 (ipykernel)",
   "language": "python",
   "name": "python3"
  },
  "language_info": {
   "codemirror_mode": {
    "name": "ipython",
    "version": 3
   },
   "file_extension": ".py",
   "mimetype": "text/x-python",
   "name": "python",
   "nbconvert_exporter": "python",
   "pygments_lexer": "ipython3",
   "version": "3.12.8"
  }
 },
 "nbformat": 4,
 "nbformat_minor": 5
}
